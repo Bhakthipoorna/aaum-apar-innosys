{
 "cells": [
  {
   "cell_type": "code",
   "execution_count": 2,
   "id": "67ac7c6c",
   "metadata": {},
   "outputs": [],
   "source": [
    "import pandas as pd\n",
    "import pymssql"
   ]
  },
  {
   "cell_type": "code",
   "execution_count": 3,
   "id": "fed42c09",
   "metadata": {},
   "outputs": [],
   "source": [
    "import json\n",
    "with open('my.json') as file:\n",
    "    data = json.load(file)\n",
    "user = data['user']\n",
    "pwd =  data['password']"
   ]
  },
  {
   "cell_type": "code",
   "execution_count": 4,
   "id": "1152ea6a",
   "metadata": {},
   "outputs": [],
   "source": [
    "conn=pymssql.connect(host='103.24.200.157',user=user,password=pwd,database='InnoculateNCRFISUBI')"
   ]
  },
  {
   "cell_type": "code",
   "execution_count": 5,
   "id": "e3a848b8",
   "metadata": {},
   "outputs": [],
   "source": [
    "events=pd.read_sql(\"select EventId,McuId,AtTime,Msg,EventType,OpenedOn,ClosedBy,ClosedOn,qStatus from lbtEvents where OpenedOn>='2021-06-01 00:00:00' and OpenedOn<'2021-07-01 00:00:00' \",conn)"
   ]
  },
  {
   "cell_type": "code",
   "execution_count": 6,
   "id": "d5626f64",
   "metadata": {},
   "outputs": [
    {
     "data": {
      "text/plain": [
       "(107423, 9)"
      ]
     },
     "execution_count": 6,
     "metadata": {},
     "output_type": "execute_result"
    }
   ],
   "source": [
    "pd.set_option('display.max_columns',None)\n",
    "events.shape"
   ]
  },
  {
   "cell_type": "code",
   "execution_count": 7,
   "id": "f0d8e4fe",
   "metadata": {},
   "outputs": [
    {
     "data": {
      "text/html": [
       "<div>\n",
       "<style scoped>\n",
       "    .dataframe tbody tr th:only-of-type {\n",
       "        vertical-align: middle;\n",
       "    }\n",
       "\n",
       "    .dataframe tbody tr th {\n",
       "        vertical-align: top;\n",
       "    }\n",
       "\n",
       "    .dataframe thead th {\n",
       "        text-align: right;\n",
       "    }\n",
       "</style>\n",
       "<table border=\"1\" class=\"dataframe\">\n",
       "  <thead>\n",
       "    <tr style=\"text-align: right;\">\n",
       "      <th></th>\n",
       "      <th>s_Id</th>\n",
       "      <th>s_Name</th>\n",
       "      <th>McuId</th>\n",
       "    </tr>\n",
       "  </thead>\n",
       "  <tbody>\n",
       "    <tr>\n",
       "      <th>0</th>\n",
       "      <td>11001</td>\n",
       "      <td>NJUL7061</td>\n",
       "      <td>110212</td>\n",
       "    </tr>\n",
       "    <tr>\n",
       "      <th>1</th>\n",
       "      <td>11386</td>\n",
       "      <td>NSAM7081</td>\n",
       "      <td>110270</td>\n",
       "    </tr>\n",
       "    <tr>\n",
       "      <th>2</th>\n",
       "      <td>11223</td>\n",
       "      <td>NBAN7561</td>\n",
       "      <td>110332</td>\n",
       "    </tr>\n",
       "    <tr>\n",
       "      <th>3</th>\n",
       "      <td>11002</td>\n",
       "      <td>NJUL70711111111</td>\n",
       "      <td>110920</td>\n",
       "    </tr>\n",
       "    <tr>\n",
       "      <th>4</th>\n",
       "      <td>11192</td>\n",
       "      <td>NSIL7111</td>\n",
       "      <td>110941</td>\n",
       "    </tr>\n",
       "  </tbody>\n",
       "</table>\n",
       "</div>"
      ],
      "text/plain": [
       "    s_Id           s_Name   McuId\n",
       "0  11001         NJUL7061  110212\n",
       "1  11386         NSAM7081  110270\n",
       "2  11223         NBAN7561  110332\n",
       "3  11002  NJUL70711111111  110920\n",
       "4  11192         NSIL7111  110941"
      ]
     },
     "execution_count": 7,
     "metadata": {},
     "output_type": "execute_result"
    }
   ],
   "source": [
    "sitemas=pd.read_sql('Select s_Id,s_Name,McuId from lbtSiteMas',conn)\n",
    "sitemas.head()"
   ]
  },
  {
   "cell_type": "code",
   "execution_count": 8,
   "id": "66d5d4d2",
   "metadata": {},
   "outputs": [],
   "source": [
    "merge1=pd.merge(events,sitemas,on='McuId')"
   ]
  },
  {
   "cell_type": "code",
   "execution_count": 9,
   "id": "aa97463d",
   "metadata": {},
   "outputs": [
    {
     "data": {
      "text/plain": [
       "(107423, 11)"
      ]
     },
     "execution_count": 9,
     "metadata": {},
     "output_type": "execute_result"
    }
   ],
   "source": [
    "merge1.shape"
   ]
  },
  {
   "cell_type": "code",
   "execution_count": 10,
   "id": "567d7091",
   "metadata": {},
   "outputs": [
    {
     "data": {
      "text/html": [
       "<div>\n",
       "<style scoped>\n",
       "    .dataframe tbody tr th:only-of-type {\n",
       "        vertical-align: middle;\n",
       "    }\n",
       "\n",
       "    .dataframe tbody tr th {\n",
       "        vertical-align: top;\n",
       "    }\n",
       "\n",
       "    .dataframe thead th {\n",
       "        text-align: right;\n",
       "    }\n",
       "</style>\n",
       "<table border=\"1\" class=\"dataframe\">\n",
       "  <thead>\n",
       "    <tr style=\"text-align: right;\">\n",
       "      <th></th>\n",
       "      <th>EventId</th>\n",
       "      <th>UpdatedBy</th>\n",
       "      <th>UpdatedON</th>\n",
       "      <th>Remarks</th>\n",
       "    </tr>\n",
       "  </thead>\n",
       "  <tbody>\n",
       "    <tr>\n",
       "      <th>0</th>\n",
       "      <td>598514</td>\n",
       "      <td>sowmiya.ganesan@aparinnosys.com</td>\n",
       "      <td>2021-06-05 10:07:34.343</td>\n",
       "      <td>&lt;br/&gt; sowmiya.ganesan@aparinnosys.com Working</td>\n",
       "    </tr>\n",
       "    <tr>\n",
       "      <th>1</th>\n",
       "      <td>598619</td>\n",
       "      <td>sowmiya.ganesan@aparinnosys.com</td>\n",
       "      <td>2021-06-05 10:19:10.957</td>\n",
       "      <td>&lt;br/&gt; sowmiya.ganesan@aparinnosys.com Working</td>\n",
       "    </tr>\n",
       "    <tr>\n",
       "      <th>2</th>\n",
       "      <td>598682</td>\n",
       "      <td>sowmiya.ganesan@aparinnosys.com</td>\n",
       "      <td>2021-06-05 10:28:07.367</td>\n",
       "      <td>&lt;br/&gt; sowmiya.ganesan@aparinnosys.com Working</td>\n",
       "    </tr>\n",
       "    <tr>\n",
       "      <th>3</th>\n",
       "      <td>615596</td>\n",
       "      <td>abilash.srinivasalu@aparinnosys.com</td>\n",
       "      <td>2021-06-09 19:41:06.280</td>\n",
       "      <td>&lt;br/&gt; abilash.srinivasalu@aparinnosys.com working</td>\n",
       "    </tr>\n",
       "    <tr>\n",
       "      <th>4</th>\n",
       "      <td>615597</td>\n",
       "      <td>abilash.srinivasalu@aparinnosys.com</td>\n",
       "      <td>2021-06-09 19:42:03.797</td>\n",
       "      <td>&lt;br/&gt; abilash.srinivasalu@aparinnosys.com working</td>\n",
       "    </tr>\n",
       "  </tbody>\n",
       "</table>\n",
       "</div>"
      ],
      "text/plain": [
       "   EventId                            UpdatedBy               UpdatedON  \\\n",
       "0   598514      sowmiya.ganesan@aparinnosys.com 2021-06-05 10:07:34.343   \n",
       "1   598619      sowmiya.ganesan@aparinnosys.com 2021-06-05 10:19:10.957   \n",
       "2   598682      sowmiya.ganesan@aparinnosys.com 2021-06-05 10:28:07.367   \n",
       "3   615596  abilash.srinivasalu@aparinnosys.com 2021-06-09 19:41:06.280   \n",
       "4   615597  abilash.srinivasalu@aparinnosys.com 2021-06-09 19:42:03.797   \n",
       "\n",
       "                                             Remarks  \n",
       "0      <br/> sowmiya.ganesan@aparinnosys.com Working  \n",
       "1      <br/> sowmiya.ganesan@aparinnosys.com Working  \n",
       "2      <br/> sowmiya.ganesan@aparinnosys.com Working  \n",
       "3  <br/> abilash.srinivasalu@aparinnosys.com working  \n",
       "4  <br/> abilash.srinivasalu@aparinnosys.com working  "
      ]
     },
     "execution_count": 10,
     "metadata": {},
     "output_type": "execute_result"
    }
   ],
   "source": [
    "remarks=pd.read_sql(\"select EventId,UpdatedBy,UpdatedON,Remarks from lbtEventsRemarks where UpdatedON>='2021-06-01 00:00:00' and UpdatedON<='2021-07-01 00:00:00' \",conn)\n",
    "remarks.head()"
   ]
  },
  {
   "cell_type": "code",
   "execution_count": 11,
   "id": "4e99d265",
   "metadata": {},
   "outputs": [],
   "source": [
    "merge2=pd.merge(merge1,remarks,on='EventId')"
   ]
  },
  {
   "cell_type": "code",
   "execution_count": 12,
   "id": "b2236eff",
   "metadata": {},
   "outputs": [
    {
     "data": {
      "text/plain": [
       "(11578, 14)"
      ]
     },
     "execution_count": 12,
     "metadata": {},
     "output_type": "execute_result"
    }
   ],
   "source": [
    "merge2.shape"
   ]
  },
  {
   "cell_type": "code",
   "execution_count": 13,
   "id": "95d971bd",
   "metadata": {},
   "outputs": [
    {
     "data": {
      "text/plain": [
       "(11578, 14)"
      ]
     },
     "execution_count": 13,
     "metadata": {},
     "output_type": "execute_result"
    }
   ],
   "source": [
    "merge3=merge2.drop_duplicates(keep='first')\n",
    "merge3['qStatus']=merge3['qStatus'].astype(str)\n",
    "merge3['qStatus']=merge3['qStatus'].str.lower()\n",
    "merge4=merge3[merge3['qStatus']=='true']\n",
    "merge4.shape"
   ]
  },
  {
   "cell_type": "code",
   "execution_count": 14,
   "id": "2a5b14fe",
   "metadata": {},
   "outputs": [
    {
     "name": "stdout",
     "output_type": "stream",
     "text": [
      "(2, 14)\n",
      "(11576, 14)\n"
     ]
    }
   ],
   "source": [
    "merge4['ClosedBy']=merge4['ClosedBy'].str.lower()\n",
    "mergedrop=merge4[merge4['ClosedBy']=='system']\n",
    "print(mergedrop.shape)\n",
    "merge5=merge4.drop(mergedrop.index)\n",
    "print(merge5.shape)"
   ]
  },
  {
   "cell_type": "code",
   "execution_count": 15,
   "id": "ba8a9d82",
   "metadata": {},
   "outputs": [
    {
     "data": {
      "text/plain": [
       "(491, 14)"
      ]
     },
     "execution_count": 15,
     "metadata": {},
     "output_type": "execute_result"
    }
   ],
   "source": [
    "merge5['Remarks']=merge5['Remarks'].str.lower()\n",
    "merge55=merge5[merge5['Remarks'].str.contains('working')]\n",
    "merge5drop=merge55[merge55['Remarks'].str.contains('closed')]\n",
    "merge5drop.shape"
   ]
  },
  {
   "cell_type": "code",
   "execution_count": 16,
   "id": "22a52d36",
   "metadata": {},
   "outputs": [
    {
     "data": {
      "text/plain": [
       "(4489, 14)"
      ]
     },
     "execution_count": 16,
     "metadata": {},
     "output_type": "execute_result"
    }
   ],
   "source": [
    "pd.set_option('display.max_rows',None)\n",
    "Events=merge55.drop(merge5drop.index)\n",
    "Events.shape"
   ]
  },
  {
   "cell_type": "code",
   "execution_count": 17,
   "id": "c8e7bc95",
   "metadata": {},
   "outputs": [
    {
     "data": {
      "text/html": [
       "<div>\n",
       "<style scoped>\n",
       "    .dataframe tbody tr th:only-of-type {\n",
       "        vertical-align: middle;\n",
       "    }\n",
       "\n",
       "    .dataframe tbody tr th {\n",
       "        vertical-align: top;\n",
       "    }\n",
       "\n",
       "    .dataframe thead th {\n",
       "        text-align: right;\n",
       "    }\n",
       "</style>\n",
       "<table border=\"1\" class=\"dataframe\">\n",
       "  <thead>\n",
       "    <tr style=\"text-align: right;\">\n",
       "      <th></th>\n",
       "      <th>EventId</th>\n",
       "      <th>McuId</th>\n",
       "      <th>AtTime</th>\n",
       "      <th>Msg</th>\n",
       "      <th>EventType</th>\n",
       "      <th>OpenedOn</th>\n",
       "      <th>ClosedBy</th>\n",
       "      <th>ClosedOn</th>\n",
       "      <th>qStatus</th>\n",
       "      <th>s_Id</th>\n",
       "      <th>s_Name</th>\n",
       "      <th>UpdatedBy</th>\n",
       "      <th>UpdatedON</th>\n",
       "      <th>Remarks</th>\n",
       "    </tr>\n",
       "  </thead>\n",
       "  <tbody>\n",
       "    <tr>\n",
       "      <th>1</th>\n",
       "      <td>581000</td>\n",
       "      <td>111620</td>\n",
       "      <td>2021-06-01 00:20:45</td>\n",
       "      <td>ATM-1 Battery Bank Theft Attempt</td>\n",
       "      <td>SOS</td>\n",
       "      <td>2021-06-01 00:20:08.560</td>\n",
       "      <td>yoganathan.munival@aparinnosys.com</td>\n",
       "      <td>2021-06-01 00:29:54.760</td>\n",
       "      <td>true</td>\n",
       "      <td>11115</td>\n",
       "      <td>NPAT7121</td>\n",
       "      <td>yoganathan.munival@aparinnosys.com</td>\n",
       "      <td>2021-06-01 00:21:41.160</td>\n",
       "      <td>&lt;br/&gt; yoganathan.munival@aparinnosys.com worki...</td>\n",
       "    </tr>\n",
       "    <tr>\n",
       "      <th>3</th>\n",
       "      <td>581005</td>\n",
       "      <td>111620</td>\n",
       "      <td>2021-06-01 00:32:51</td>\n",
       "      <td>ATM-1 Battery Bank Theft Attempt</td>\n",
       "      <td>SOS</td>\n",
       "      <td>2021-06-01 00:32:14.533</td>\n",
       "      <td>yoganathan.munival@aparinnosys.com</td>\n",
       "      <td>2021-06-01 00:58:47.500</td>\n",
       "      <td>true</td>\n",
       "      <td>11115</td>\n",
       "      <td>NPAT7121</td>\n",
       "      <td>yoganathan.munival@aparinnosys.com</td>\n",
       "      <td>2021-06-01 00:33:09.750</td>\n",
       "      <td>&lt;br/&gt; yoganathan.munival@aparinnosys.com worki...</td>\n",
       "    </tr>\n",
       "    <tr>\n",
       "      <th>9</th>\n",
       "      <td>582651</td>\n",
       "      <td>111620</td>\n",
       "      <td>2021-06-01 11:58:43</td>\n",
       "      <td>ATM-1 Battery Bank Theft Attempt</td>\n",
       "      <td>SOS</td>\n",
       "      <td>2021-06-01 11:58:41.300</td>\n",
       "      <td>sowmiya.ganesan@aparinnosys.com</td>\n",
       "      <td>2021-06-01 12:14:35.090</td>\n",
       "      <td>true</td>\n",
       "      <td>11115</td>\n",
       "      <td>NPAT7121</td>\n",
       "      <td>sowmiya.ganesan@aparinnosys.com</td>\n",
       "      <td>2021-06-01 12:04:45.767</td>\n",
       "      <td>&lt;br/&gt; sowmiya.ganesan@aparinnosys.com working</td>\n",
       "    </tr>\n",
       "    <tr>\n",
       "      <th>12</th>\n",
       "      <td>583341</td>\n",
       "      <td>111620</td>\n",
       "      <td>2021-06-01 13:59:30</td>\n",
       "      <td>ATM-1 Battery Bank Theft Attempt</td>\n",
       "      <td>SOS</td>\n",
       "      <td>2021-06-01 13:59:28.007</td>\n",
       "      <td>joel.jebaraj@aparinnosys.com</td>\n",
       "      <td>2021-06-01 14:07:18.483</td>\n",
       "      <td>true</td>\n",
       "      <td>11115</td>\n",
       "      <td>NPAT7121</td>\n",
       "      <td>joel.jebaraj@aparinnosys.com</td>\n",
       "      <td>2021-06-01 14:05:52.570</td>\n",
       "      <td>&lt;br/&gt; joel.jebaraj@aparinnosys.com working</td>\n",
       "    </tr>\n",
       "    <tr>\n",
       "      <th>14</th>\n",
       "      <td>583946</td>\n",
       "      <td>111620</td>\n",
       "      <td>2021-06-01 16:23:15</td>\n",
       "      <td>ATM-1 Battery Bank Theft Attempt</td>\n",
       "      <td>SOS</td>\n",
       "      <td>2021-06-01 16:23:12.573</td>\n",
       "      <td>joel.jebaraj@aparinnosys.com</td>\n",
       "      <td>2021-06-01 16:42:52.283</td>\n",
       "      <td>true</td>\n",
       "      <td>11115</td>\n",
       "      <td>NPAT7121</td>\n",
       "      <td>joel.jebaraj@aparinnosys.com</td>\n",
       "      <td>2021-06-01 16:24:05.390</td>\n",
       "      <td>&lt;br/&gt; joel.jebaraj@aparinnosys.com working</td>\n",
       "    </tr>\n",
       "  </tbody>\n",
       "</table>\n",
       "</div>"
      ],
      "text/plain": [
       "    EventId   McuId              AtTime                               Msg  \\\n",
       "1    581000  111620 2021-06-01 00:20:45  ATM-1 Battery Bank Theft Attempt   \n",
       "3    581005  111620 2021-06-01 00:32:51  ATM-1 Battery Bank Theft Attempt   \n",
       "9    582651  111620 2021-06-01 11:58:43  ATM-1 Battery Bank Theft Attempt   \n",
       "12   583341  111620 2021-06-01 13:59:30  ATM-1 Battery Bank Theft Attempt   \n",
       "14   583946  111620 2021-06-01 16:23:15  ATM-1 Battery Bank Theft Attempt   \n",
       "\n",
       "   EventType                OpenedOn                            ClosedBy  \\\n",
       "1        SOS 2021-06-01 00:20:08.560  yoganathan.munival@aparinnosys.com   \n",
       "3        SOS 2021-06-01 00:32:14.533  yoganathan.munival@aparinnosys.com   \n",
       "9        SOS 2021-06-01 11:58:41.300     sowmiya.ganesan@aparinnosys.com   \n",
       "12       SOS 2021-06-01 13:59:28.007        joel.jebaraj@aparinnosys.com   \n",
       "14       SOS 2021-06-01 16:23:12.573        joel.jebaraj@aparinnosys.com   \n",
       "\n",
       "                  ClosedOn qStatus   s_Id    s_Name  \\\n",
       "1  2021-06-01 00:29:54.760    true  11115  NPAT7121   \n",
       "3  2021-06-01 00:58:47.500    true  11115  NPAT7121   \n",
       "9  2021-06-01 12:14:35.090    true  11115  NPAT7121   \n",
       "12 2021-06-01 14:07:18.483    true  11115  NPAT7121   \n",
       "14 2021-06-01 16:42:52.283    true  11115  NPAT7121   \n",
       "\n",
       "                             UpdatedBy               UpdatedON  \\\n",
       "1   yoganathan.munival@aparinnosys.com 2021-06-01 00:21:41.160   \n",
       "3   yoganathan.munival@aparinnosys.com 2021-06-01 00:33:09.750   \n",
       "9      sowmiya.ganesan@aparinnosys.com 2021-06-01 12:04:45.767   \n",
       "12        joel.jebaraj@aparinnosys.com 2021-06-01 14:05:52.570   \n",
       "14        joel.jebaraj@aparinnosys.com 2021-06-01 16:24:05.390   \n",
       "\n",
       "                                              Remarks  \n",
       "1   <br/> yoganathan.munival@aparinnosys.com worki...  \n",
       "3   <br/> yoganathan.munival@aparinnosys.com worki...  \n",
       "9       <br/> sowmiya.ganesan@aparinnosys.com working  \n",
       "12         <br/> joel.jebaraj@aparinnosys.com working  \n",
       "14         <br/> joel.jebaraj@aparinnosys.com working  "
      ]
     },
     "execution_count": 17,
     "metadata": {},
     "output_type": "execute_result"
    }
   ],
   "source": [
    "Events.head()"
   ]
  },
  {
   "cell_type": "code",
   "execution_count": 18,
   "id": "49e16aa0",
   "metadata": {},
   "outputs": [],
   "source": [
    "Events['TicketAge']=Events['ClosedOn']-Events['OpenedOn']\n",
    "Events['AcknowledgeAge']=Events['UpdatedON']-Events['OpenedOn']\n",
    "Events['TicketAge']=Events['TicketAge'].astype('timedelta64[m]')\n",
    "Events['AcknowledgeAge']=Events['AcknowledgeAge'].astype('timedelta64[m]')"
   ]
  },
  {
   "cell_type": "code",
   "execution_count": 19,
   "id": "aa0960ea",
   "metadata": {},
   "outputs": [
    {
     "data": {
      "text/plain": [
       "(4489, 16)"
      ]
     },
     "execution_count": 19,
     "metadata": {},
     "output_type": "execute_result"
    }
   ],
   "source": [
    "Events=Events.drop_duplicates(keep='first')\n",
    "Events.shape"
   ]
  },
  {
   "cell_type": "code",
   "execution_count": 20,
   "id": "82caf041",
   "metadata": {},
   "outputs": [],
   "source": [
    "import numpy as np"
   ]
  },
  {
   "cell_type": "code",
   "execution_count": 21,
   "id": "2dcc7ff6",
   "metadata": {},
   "outputs": [
    {
     "data": {
      "text/html": [
       "<div>\n",
       "<style scoped>\n",
       "    .dataframe tbody tr th:only-of-type {\n",
       "        vertical-align: middle;\n",
       "    }\n",
       "\n",
       "    .dataframe tbody tr th {\n",
       "        vertical-align: top;\n",
       "    }\n",
       "\n",
       "    .dataframe thead th {\n",
       "        text-align: right;\n",
       "    }\n",
       "</style>\n",
       "<table border=\"1\" class=\"dataframe\">\n",
       "  <thead>\n",
       "    <tr style=\"text-align: right;\">\n",
       "      <th></th>\n",
       "      <th>EventId</th>\n",
       "      <th>McuId</th>\n",
       "      <th>AtTime</th>\n",
       "      <th>Msg</th>\n",
       "      <th>EventType</th>\n",
       "      <th>OpenedOn</th>\n",
       "      <th>ClosedBy</th>\n",
       "      <th>ClosedOn</th>\n",
       "      <th>qStatus</th>\n",
       "      <th>s_Id</th>\n",
       "      <th>s_Name</th>\n",
       "      <th>UpdatedBy</th>\n",
       "      <th>UpdatedON</th>\n",
       "      <th>Remarks</th>\n",
       "      <th>TicketAge</th>\n",
       "      <th>AcknowledgeAge</th>\n",
       "      <th>Penalty</th>\n",
       "    </tr>\n",
       "  </thead>\n",
       "  <tbody>\n",
       "    <tr>\n",
       "      <th>1</th>\n",
       "      <td>581000</td>\n",
       "      <td>111620</td>\n",
       "      <td>2021-06-01 00:20:45</td>\n",
       "      <td>ATM-1 Battery Bank Theft Attempt</td>\n",
       "      <td>SOS</td>\n",
       "      <td>2021-06-01 00:20:08.560</td>\n",
       "      <td>yoganathan.munival@aparinnosys.com</td>\n",
       "      <td>2021-06-01 00:29:54.760</td>\n",
       "      <td>true</td>\n",
       "      <td>11115</td>\n",
       "      <td>NPAT7121</td>\n",
       "      <td>yoganathan.munival@aparinnosys.com</td>\n",
       "      <td>2021-06-01 00:21:41.160</td>\n",
       "      <td>&lt;br/&gt; yoganathan.munival@aparinnosys.com worki...</td>\n",
       "      <td>9.0</td>\n",
       "      <td>1.0</td>\n",
       "      <td>0</td>\n",
       "    </tr>\n",
       "    <tr>\n",
       "      <th>3</th>\n",
       "      <td>581005</td>\n",
       "      <td>111620</td>\n",
       "      <td>2021-06-01 00:32:51</td>\n",
       "      <td>ATM-1 Battery Bank Theft Attempt</td>\n",
       "      <td>SOS</td>\n",
       "      <td>2021-06-01 00:32:14.533</td>\n",
       "      <td>yoganathan.munival@aparinnosys.com</td>\n",
       "      <td>2021-06-01 00:58:47.500</td>\n",
       "      <td>true</td>\n",
       "      <td>11115</td>\n",
       "      <td>NPAT7121</td>\n",
       "      <td>yoganathan.munival@aparinnosys.com</td>\n",
       "      <td>2021-06-01 00:33:09.750</td>\n",
       "      <td>&lt;br/&gt; yoganathan.munival@aparinnosys.com worki...</td>\n",
       "      <td>26.0</td>\n",
       "      <td>0.0</td>\n",
       "      <td>0</td>\n",
       "    </tr>\n",
       "    <tr>\n",
       "      <th>9</th>\n",
       "      <td>582651</td>\n",
       "      <td>111620</td>\n",
       "      <td>2021-06-01 11:58:43</td>\n",
       "      <td>ATM-1 Battery Bank Theft Attempt</td>\n",
       "      <td>SOS</td>\n",
       "      <td>2021-06-01 11:58:41.300</td>\n",
       "      <td>sowmiya.ganesan@aparinnosys.com</td>\n",
       "      <td>2021-06-01 12:14:35.090</td>\n",
       "      <td>true</td>\n",
       "      <td>11115</td>\n",
       "      <td>NPAT7121</td>\n",
       "      <td>sowmiya.ganesan@aparinnosys.com</td>\n",
       "      <td>2021-06-01 12:04:45.767</td>\n",
       "      <td>&lt;br/&gt; sowmiya.ganesan@aparinnosys.com working</td>\n",
       "      <td>15.0</td>\n",
       "      <td>6.0</td>\n",
       "      <td>Penalty Applicable</td>\n",
       "    </tr>\n",
       "    <tr>\n",
       "      <th>12</th>\n",
       "      <td>583341</td>\n",
       "      <td>111620</td>\n",
       "      <td>2021-06-01 13:59:30</td>\n",
       "      <td>ATM-1 Battery Bank Theft Attempt</td>\n",
       "      <td>SOS</td>\n",
       "      <td>2021-06-01 13:59:28.007</td>\n",
       "      <td>joel.jebaraj@aparinnosys.com</td>\n",
       "      <td>2021-06-01 14:07:18.483</td>\n",
       "      <td>true</td>\n",
       "      <td>11115</td>\n",
       "      <td>NPAT7121</td>\n",
       "      <td>joel.jebaraj@aparinnosys.com</td>\n",
       "      <td>2021-06-01 14:05:52.570</td>\n",
       "      <td>&lt;br/&gt; joel.jebaraj@aparinnosys.com working</td>\n",
       "      <td>7.0</td>\n",
       "      <td>6.0</td>\n",
       "      <td>Penalty Applicable</td>\n",
       "    </tr>\n",
       "    <tr>\n",
       "      <th>14</th>\n",
       "      <td>583946</td>\n",
       "      <td>111620</td>\n",
       "      <td>2021-06-01 16:23:15</td>\n",
       "      <td>ATM-1 Battery Bank Theft Attempt</td>\n",
       "      <td>SOS</td>\n",
       "      <td>2021-06-01 16:23:12.573</td>\n",
       "      <td>joel.jebaraj@aparinnosys.com</td>\n",
       "      <td>2021-06-01 16:42:52.283</td>\n",
       "      <td>true</td>\n",
       "      <td>11115</td>\n",
       "      <td>NPAT7121</td>\n",
       "      <td>joel.jebaraj@aparinnosys.com</td>\n",
       "      <td>2021-06-01 16:24:05.390</td>\n",
       "      <td>&lt;br/&gt; joel.jebaraj@aparinnosys.com working</td>\n",
       "      <td>19.0</td>\n",
       "      <td>0.0</td>\n",
       "      <td>0</td>\n",
       "    </tr>\n",
       "  </tbody>\n",
       "</table>\n",
       "</div>"
      ],
      "text/plain": [
       "    EventId   McuId              AtTime                               Msg  \\\n",
       "1    581000  111620 2021-06-01 00:20:45  ATM-1 Battery Bank Theft Attempt   \n",
       "3    581005  111620 2021-06-01 00:32:51  ATM-1 Battery Bank Theft Attempt   \n",
       "9    582651  111620 2021-06-01 11:58:43  ATM-1 Battery Bank Theft Attempt   \n",
       "12   583341  111620 2021-06-01 13:59:30  ATM-1 Battery Bank Theft Attempt   \n",
       "14   583946  111620 2021-06-01 16:23:15  ATM-1 Battery Bank Theft Attempt   \n",
       "\n",
       "   EventType                OpenedOn                            ClosedBy  \\\n",
       "1        SOS 2021-06-01 00:20:08.560  yoganathan.munival@aparinnosys.com   \n",
       "3        SOS 2021-06-01 00:32:14.533  yoganathan.munival@aparinnosys.com   \n",
       "9        SOS 2021-06-01 11:58:41.300     sowmiya.ganesan@aparinnosys.com   \n",
       "12       SOS 2021-06-01 13:59:28.007        joel.jebaraj@aparinnosys.com   \n",
       "14       SOS 2021-06-01 16:23:12.573        joel.jebaraj@aparinnosys.com   \n",
       "\n",
       "                  ClosedOn qStatus   s_Id    s_Name  \\\n",
       "1  2021-06-01 00:29:54.760    true  11115  NPAT7121   \n",
       "3  2021-06-01 00:58:47.500    true  11115  NPAT7121   \n",
       "9  2021-06-01 12:14:35.090    true  11115  NPAT7121   \n",
       "12 2021-06-01 14:07:18.483    true  11115  NPAT7121   \n",
       "14 2021-06-01 16:42:52.283    true  11115  NPAT7121   \n",
       "\n",
       "                             UpdatedBy               UpdatedON  \\\n",
       "1   yoganathan.munival@aparinnosys.com 2021-06-01 00:21:41.160   \n",
       "3   yoganathan.munival@aparinnosys.com 2021-06-01 00:33:09.750   \n",
       "9      sowmiya.ganesan@aparinnosys.com 2021-06-01 12:04:45.767   \n",
       "12        joel.jebaraj@aparinnosys.com 2021-06-01 14:05:52.570   \n",
       "14        joel.jebaraj@aparinnosys.com 2021-06-01 16:24:05.390   \n",
       "\n",
       "                                              Remarks  TicketAge  \\\n",
       "1   <br/> yoganathan.munival@aparinnosys.com worki...        9.0   \n",
       "3   <br/> yoganathan.munival@aparinnosys.com worki...       26.0   \n",
       "9       <br/> sowmiya.ganesan@aparinnosys.com working       15.0   \n",
       "12         <br/> joel.jebaraj@aparinnosys.com working        7.0   \n",
       "14         <br/> joel.jebaraj@aparinnosys.com working       19.0   \n",
       "\n",
       "    AcknowledgeAge             Penalty  \n",
       "1              1.0                   0  \n",
       "3              0.0                   0  \n",
       "9              6.0  Penalty Applicable  \n",
       "12             6.0  Penalty Applicable  \n",
       "14             0.0                   0  "
      ]
     },
     "execution_count": 21,
     "metadata": {},
     "output_type": "execute_result"
    }
   ],
   "source": [
    "conditions = [\n",
    "    (Events['EventType'] == 'SOS') & (Events['TicketAge'] > 30),\n",
    "    (Events['EventType'] == 'Critical') & (Events['TicketAge'] > 60),\n",
    "    (Events['EventType'] == 'SOS') & (Events['AcknowledgeAge'] > 5),\n",
    "    (Events['EventType'] == 'Critical') & (Events['AcknowledgeAge'] > 10)]\n",
    "\n",
    "# create a list of the values we want to assign for each condition\n",
    "values = ['Penalty Applicable','Penalty Applicable','Penalty Applicable','Penalty Applicable']\n",
    "\n",
    "# create a new column and use np.select to assign values to it using our lists as arguments\n",
    "Events['Penalty'] = np.select(conditions, values)\n",
    "\n",
    "# display updated DataFrame\n",
    "Events.head()"
   ]
  },
  {
   "cell_type": "code",
   "execution_count": 22,
   "id": "abbcc4fd",
   "metadata": {},
   "outputs": [
    {
     "data": {
      "text/plain": [
       "0                     2411\n",
       "Penalty Applicable    2078\n",
       "Name: Penalty, dtype: int64"
      ]
     },
     "execution_count": 22,
     "metadata": {},
     "output_type": "execute_result"
    }
   ],
   "source": [
    "Events['Penalty'].value_counts()"
   ]
  },
  {
   "cell_type": "code",
   "execution_count": 23,
   "id": "a031cdd4",
   "metadata": {},
   "outputs": [],
   "source": [
    "sos=Events[(Events['EventType']=='SOS') & (Events['Penalty']=='Penalty Applicable')]"
   ]
  },
  {
   "cell_type": "code",
   "execution_count": 24,
   "id": "ccf4b161",
   "metadata": {},
   "outputs": [
    {
     "data": {
      "text/plain": [
       "(944, 17)"
      ]
     },
     "execution_count": 24,
     "metadata": {},
     "output_type": "execute_result"
    }
   ],
   "source": [
    "sos.shape"
   ]
  },
  {
   "cell_type": "code",
   "execution_count": 28,
   "id": "dcbace0d",
   "metadata": {},
   "outputs": [],
   "source": [
    "penalty=Events[Events['Penalty']=='Penalty Applicable']"
   ]
  },
  {
   "cell_type": "code",
   "execution_count": 29,
   "id": "a8c9ddec",
   "metadata": {},
   "outputs": [],
   "source": [
    "penalty.to_csv('FISUBIJunepenalty.csv')"
   ]
  },
  {
   "cell_type": "code",
   "execution_count": null,
   "id": "7783042d",
   "metadata": {},
   "outputs": [],
   "source": []
  }
 ],
 "metadata": {
  "kernelspec": {
   "display_name": "Python 3",
   "language": "python",
   "name": "python3"
  },
  "language_info": {
   "codemirror_mode": {
    "name": "ipython",
    "version": 3
   },
   "file_extension": ".py",
   "mimetype": "text/x-python",
   "name": "python",
   "nbconvert_exporter": "python",
   "pygments_lexer": "ipython3",
   "version": "3.8.8"
  }
 },
 "nbformat": 4,
 "nbformat_minor": 5
}
