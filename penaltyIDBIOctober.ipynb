{
 "cells": [
  {
   "cell_type": "code",
   "execution_count": null,
   "id": "31692491",
   "metadata": {},
   "outputs": [],
   "source": [
    "!pip install pymssql --user"
   ]
  },
  {
   "cell_type": "code",
   "execution_count": 1,
   "id": "67ac7c6c",
   "metadata": {},
   "outputs": [],
   "source": [
    "import pandas as pd\n",
    "import pymssql"
   ]
  },
  {
   "cell_type": "code",
   "execution_count": 74,
   "id": "fed42c09",
   "metadata": {},
   "outputs": [],
   "source": [
    "import json\n",
    "\n",
    "with open('my.json') as file:\n",
    "    data = json.load(file)\n",
    "\n",
    "user = data['user']\n",
    "pwd =  data['password']"
   ]
  },
  {
   "cell_type": "code",
   "execution_count": 76,
   "id": "1152ea6a",
   "metadata": {},
   "outputs": [],
   "source": [
    "conn=pymssql.connect(host='103.24.200.157',user=user,password=pwd,database='InnoculateNCRIDBI')"
   ]
  },
  {
   "cell_type": "code",
   "execution_count": 3,
   "id": "e3a848b8",
   "metadata": {},
   "outputs": [],
   "source": [
    "events=pd.read_sql(\"select EventId,McuId,AtTime,Msg,EventType,OpenedOn,ClosedBy,ClosedOn,qStatus from lbtEvents where OpenedOn>='2021-10-01 00:00:00' and OpenedOn<'2021-11-01 00:00:00' \",conn)"
   ]
  },
  {
   "cell_type": "code",
   "execution_count": 4,
   "id": "d5626f64",
   "metadata": {},
   "outputs": [
    {
     "data": {
      "text/plain": [
       "(66221, 9)"
      ]
     },
     "execution_count": 4,
     "metadata": {},
     "output_type": "execute_result"
    }
   ],
   "source": [
    "pd.set_option('display.max_columns',None)\n",
    "events.shape"
   ]
  },
  {
   "cell_type": "code",
   "execution_count": 5,
   "id": "f0d8e4fe",
   "metadata": {},
   "outputs": [
    {
     "data": {
      "text/html": [
       "<div>\n",
       "<style scoped>\n",
       "    .dataframe tbody tr th:only-of-type {\n",
       "        vertical-align: middle;\n",
       "    }\n",
       "\n",
       "    .dataframe tbody tr th {\n",
       "        vertical-align: top;\n",
       "    }\n",
       "\n",
       "    .dataframe thead th {\n",
       "        text-align: right;\n",
       "    }\n",
       "</style>\n",
       "<table border=\"1\" class=\"dataframe\">\n",
       "  <thead>\n",
       "    <tr style=\"text-align: right;\">\n",
       "      <th></th>\n",
       "      <th>s_Id</th>\n",
       "      <th>s_Name</th>\n",
       "      <th>McuId</th>\n",
       "    </tr>\n",
       "  </thead>\n",
       "  <tbody>\n",
       "    <tr>\n",
       "      <th>0</th>\n",
       "      <td>11014</td>\n",
       "      <td>ID021112</td>\n",
       "      <td>7359fb</td>\n",
       "    </tr>\n",
       "    <tr>\n",
       "      <th>1</th>\n",
       "      <td>11015</td>\n",
       "      <td>ID000614</td>\n",
       "      <td>735572</td>\n",
       "    </tr>\n",
       "    <tr>\n",
       "      <th>2</th>\n",
       "      <td>11016</td>\n",
       "      <td>ID209011</td>\n",
       "      <td>735ab6</td>\n",
       "    </tr>\n",
       "    <tr>\n",
       "      <th>3</th>\n",
       "      <td>11019</td>\n",
       "      <td>ID000621</td>\n",
       "      <td>735b50</td>\n",
       "    </tr>\n",
       "    <tr>\n",
       "      <th>4</th>\n",
       "      <td>11020</td>\n",
       "      <td>ID021314</td>\n",
       "      <td>735eb8</td>\n",
       "    </tr>\n",
       "  </tbody>\n",
       "</table>\n",
       "</div>"
      ],
      "text/plain": [
       "    s_Id    s_Name   McuId\n",
       "0  11014  ID021112  7359fb\n",
       "1  11015  ID000614  735572\n",
       "2  11016  ID209011  735ab6\n",
       "3  11019  ID000621  735b50\n",
       "4  11020  ID021314  735eb8"
      ]
     },
     "execution_count": 5,
     "metadata": {},
     "output_type": "execute_result"
    }
   ],
   "source": [
    "sitemas=pd.read_sql('Select s_Id,s_Name,McuId from lbtSiteMas',conn)\n",
    "sitemas.head()"
   ]
  },
  {
   "cell_type": "code",
   "execution_count": 6,
   "id": "66d5d4d2",
   "metadata": {},
   "outputs": [],
   "source": [
    "merge1=pd.merge(events,sitemas,on='McuId')"
   ]
  },
  {
   "cell_type": "code",
   "execution_count": 7,
   "id": "aa97463d",
   "metadata": {},
   "outputs": [
    {
     "data": {
      "text/plain": [
       "(66167, 11)"
      ]
     },
     "execution_count": 7,
     "metadata": {},
     "output_type": "execute_result"
    }
   ],
   "source": [
    "merge1.shape"
   ]
  },
  {
   "cell_type": "code",
   "execution_count": 8,
   "id": "567d7091",
   "metadata": {},
   "outputs": [
    {
     "data": {
      "text/html": [
       "<div>\n",
       "<style scoped>\n",
       "    .dataframe tbody tr th:only-of-type {\n",
       "        vertical-align: middle;\n",
       "    }\n",
       "\n",
       "    .dataframe tbody tr th {\n",
       "        vertical-align: top;\n",
       "    }\n",
       "\n",
       "    .dataframe thead th {\n",
       "        text-align: right;\n",
       "    }\n",
       "</style>\n",
       "<table border=\"1\" class=\"dataframe\">\n",
       "  <thead>\n",
       "    <tr style=\"text-align: right;\">\n",
       "      <th></th>\n",
       "      <th>EventId</th>\n",
       "      <th>UpdatedBy</th>\n",
       "      <th>UpdatedON</th>\n",
       "      <th>Remarks</th>\n",
       "    </tr>\n",
       "  </thead>\n",
       "  <tbody>\n",
       "    <tr>\n",
       "      <th>0</th>\n",
       "      <td>950281</td>\n",
       "      <td>jayalakshmi.ezhilarasan@aparinnosys.com</td>\n",
       "      <td>2021-10-01 08:09:06.570</td>\n",
       "      <td>&lt;br/&gt; jayalakshmi.ezhilarasan@aparinnosys.com ...</td>\n",
       "    </tr>\n",
       "    <tr>\n",
       "      <th>1</th>\n",
       "      <td>951380</td>\n",
       "      <td>jayalakshmi.ezhilarasan@aparinnosys.com</td>\n",
       "      <td>2021-10-01 08:09:15.250</td>\n",
       "      <td>&lt;br/&gt; jayalakshmi.ezhilarasan@aparinnosys.com ...</td>\n",
       "    </tr>\n",
       "    <tr>\n",
       "      <th>2</th>\n",
       "      <td>954597</td>\n",
       "      <td>jayalakshmi.ezhilarasan@aparinnosys.com</td>\n",
       "      <td>2021-10-01 08:09:25.973</td>\n",
       "      <td>&lt;br/&gt; jayalakshmi.ezhilarasan@aparinnosys.com ...</td>\n",
       "    </tr>\n",
       "    <tr>\n",
       "      <th>3</th>\n",
       "      <td>956066</td>\n",
       "      <td>jayalakshmi.ezhilarasan@aparinnosys.com</td>\n",
       "      <td>2021-10-01 08:09:40.907</td>\n",
       "      <td>&lt;br/&gt; jayalakshmi.ezhilarasan@aparinnosys.com ...</td>\n",
       "    </tr>\n",
       "    <tr>\n",
       "      <th>4</th>\n",
       "      <td>957670</td>\n",
       "      <td>jayalakshmi.ezhilarasan@aparinnosys.com</td>\n",
       "      <td>2021-10-01 08:10:01.893</td>\n",
       "      <td>&lt;br/&gt; jayalakshmi.ezhilarasan@aparinnosys.com ...</td>\n",
       "    </tr>\n",
       "  </tbody>\n",
       "</table>\n",
       "</div>"
      ],
      "text/plain": [
       "   EventId                                UpdatedBy               UpdatedON  \\\n",
       "0   950281  jayalakshmi.ezhilarasan@aparinnosys.com 2021-10-01 08:09:06.570   \n",
       "1   951380  jayalakshmi.ezhilarasan@aparinnosys.com 2021-10-01 08:09:15.250   \n",
       "2   954597  jayalakshmi.ezhilarasan@aparinnosys.com 2021-10-01 08:09:25.973   \n",
       "3   956066  jayalakshmi.ezhilarasan@aparinnosys.com 2021-10-01 08:09:40.907   \n",
       "4   957670  jayalakshmi.ezhilarasan@aparinnosys.com 2021-10-01 08:10:01.893   \n",
       "\n",
       "                                             Remarks  \n",
       "0  <br/> jayalakshmi.ezhilarasan@aparinnosys.com ...  \n",
       "1  <br/> jayalakshmi.ezhilarasan@aparinnosys.com ...  \n",
       "2  <br/> jayalakshmi.ezhilarasan@aparinnosys.com ...  \n",
       "3  <br/> jayalakshmi.ezhilarasan@aparinnosys.com ...  \n",
       "4  <br/> jayalakshmi.ezhilarasan@aparinnosys.com ...  "
      ]
     },
     "execution_count": 8,
     "metadata": {},
     "output_type": "execute_result"
    }
   ],
   "source": [
    "remarks=pd.read_sql(\"select EventId,UpdatedBy,UpdatedON,Remarks from lbtEventsRemarks where UpdatedON>='2021-10-01 00:00:00' and UpdatedON<='2021-11-01 00:00:00' \",conn)\n",
    "remarks.head()"
   ]
  },
  {
   "cell_type": "code",
   "execution_count": 9,
   "id": "4e99d265",
   "metadata": {},
   "outputs": [],
   "source": [
    "merge2=pd.merge(merge1,remarks,on='EventId')"
   ]
  },
  {
   "cell_type": "code",
   "execution_count": 10,
   "id": "b2236eff",
   "metadata": {},
   "outputs": [
    {
     "data": {
      "text/plain": [
       "(20541, 14)"
      ]
     },
     "execution_count": 10,
     "metadata": {},
     "output_type": "execute_result"
    }
   ],
   "source": [
    "merge2.shape"
   ]
  },
  {
   "cell_type": "code",
   "execution_count": 22,
   "id": "95d971bd",
   "metadata": {},
   "outputs": [
    {
     "data": {
      "text/plain": [
       "(20541, 14)"
      ]
     },
     "execution_count": 22,
     "metadata": {},
     "output_type": "execute_result"
    }
   ],
   "source": [
    "merge3=merge2.drop_duplicates(keep='first')\n",
    "merge3['qStatus']=merge3['qStatus'].astype(str)\n",
    "merge3['qStatus']=merge3['qStatus'].str.lower()\n",
    "merge4=merge3[merge3['qStatus']=='true']\n",
    "merge4.shape"
   ]
  },
  {
   "cell_type": "code",
   "execution_count": 25,
   "id": "2a5b14fe",
   "metadata": {},
   "outputs": [
    {
     "name": "stdout",
     "output_type": "stream",
     "text": [
      "(12, 14)\n",
      "(20529, 14)\n"
     ]
    }
   ],
   "source": [
    "merge4['ClosedBy']=merge4['ClosedBy'].str.lower()\n",
    "mergedrop=merge4[merge4['ClosedBy']=='system']\n",
    "print(mergedrop.shape)\n",
    "merge5=merge4.drop(mergedrop.index)\n",
    "print(merge5.shape)"
   ]
  },
  {
   "cell_type": "code",
   "execution_count": 27,
   "id": "ba8a9d82",
   "metadata": {},
   "outputs": [
    {
     "data": {
      "text/plain": [
       "(836, 14)"
      ]
     },
     "execution_count": 27,
     "metadata": {},
     "output_type": "execute_result"
    }
   ],
   "source": [
    "merge5['Remarks']=merge5['Remarks'].str.lower()\n",
    "merge55=merge5[merge5['Remarks'].str.contains('working')]\n",
    "merge5drop=merge55[merge55['Remarks'].str.contains('closed')]\n",
    "merge5drop.shape"
   ]
  },
  {
   "cell_type": "code",
   "execution_count": 29,
   "id": "22a52d36",
   "metadata": {},
   "outputs": [
    {
     "data": {
      "text/plain": [
       "(8836, 14)"
      ]
     },
     "execution_count": 29,
     "metadata": {},
     "output_type": "execute_result"
    }
   ],
   "source": [
    "pd.set_option('display.max_rows',None)\n",
    "Events=merge55.drop(merge5drop.index)\n",
    "Events.shape"
   ]
  },
  {
   "cell_type": "code",
   "execution_count": 30,
   "id": "c8e7bc95",
   "metadata": {},
   "outputs": [
    {
     "data": {
      "text/html": [
       "<div>\n",
       "<style scoped>\n",
       "    .dataframe tbody tr th:only-of-type {\n",
       "        vertical-align: middle;\n",
       "    }\n",
       "\n",
       "    .dataframe tbody tr th {\n",
       "        vertical-align: top;\n",
       "    }\n",
       "\n",
       "    .dataframe thead th {\n",
       "        text-align: right;\n",
       "    }\n",
       "</style>\n",
       "<table border=\"1\" class=\"dataframe\">\n",
       "  <thead>\n",
       "    <tr style=\"text-align: right;\">\n",
       "      <th></th>\n",
       "      <th>EventId</th>\n",
       "      <th>McuId</th>\n",
       "      <th>AtTime</th>\n",
       "      <th>Msg</th>\n",
       "      <th>EventType</th>\n",
       "      <th>OpenedOn</th>\n",
       "      <th>ClosedBy</th>\n",
       "      <th>ClosedOn</th>\n",
       "      <th>qStatus</th>\n",
       "      <th>s_Id</th>\n",
       "      <th>s_Name</th>\n",
       "      <th>UpdatedBy</th>\n",
       "      <th>UpdatedON</th>\n",
       "      <th>Remarks</th>\n",
       "    </tr>\n",
       "  </thead>\n",
       "  <tbody>\n",
       "    <tr>\n",
       "      <th>1</th>\n",
       "      <td>967527</td>\n",
       "      <td>735ab6</td>\n",
       "      <td>2021-10-04 06:18:06</td>\n",
       "      <td>Backroom door operated without authorization</td>\n",
       "      <td>Critical</td>\n",
       "      <td>2021-10-04 06:17:34.570</td>\n",
       "      <td>prasanth.loganathan@aparinnosys.com</td>\n",
       "      <td>2021-10-04 06:22:33.933</td>\n",
       "      <td>true</td>\n",
       "      <td>11016</td>\n",
       "      <td>ID209011</td>\n",
       "      <td>prasanth.loganathan@aparinnosys.com</td>\n",
       "      <td>2021-10-04 06:19:20.263</td>\n",
       "      <td>&lt;br/&gt; prasanth.loganathan@aparinnosys.com working</td>\n",
       "    </tr>\n",
       "    <tr>\n",
       "      <th>2</th>\n",
       "      <td>967527</td>\n",
       "      <td>735ab6</td>\n",
       "      <td>2021-10-04 06:18:06</td>\n",
       "      <td>Backroom door operated without authorization</td>\n",
       "      <td>Critical</td>\n",
       "      <td>2021-10-04 06:17:34.570</td>\n",
       "      <td>prasanth.loganathan@aparinnosys.com</td>\n",
       "      <td>2021-10-04 06:22:33.933</td>\n",
       "      <td>true</td>\n",
       "      <td>11016</td>\n",
       "      <td>ID209011</td>\n",
       "      <td>prasanth.loganathan@aparinnosys.com</td>\n",
       "      <td>2021-10-04 06:19:20.360</td>\n",
       "      <td>&lt;br/&gt; prasanth.loganathan@aparinnosys.com working</td>\n",
       "    </tr>\n",
       "    <tr>\n",
       "      <th>4</th>\n",
       "      <td>969055</td>\n",
       "      <td>735ab6</td>\n",
       "      <td>2021-10-04 17:19:44</td>\n",
       "      <td>ATM-1 Chest Door operated without authorization</td>\n",
       "      <td>Critical</td>\n",
       "      <td>2021-10-04 17:19:10.327</td>\n",
       "      <td>arunkumar.panchavarnam@aparinnosys.com</td>\n",
       "      <td>2021-10-04 17:40:07.810</td>\n",
       "      <td>true</td>\n",
       "      <td>11016</td>\n",
       "      <td>ID209011</td>\n",
       "      <td>arunkumar.panchavarnam@aparinnosys.com</td>\n",
       "      <td>2021-10-04 17:24:53.820</td>\n",
       "      <td>&lt;br/&gt; arunkumar.panchavarnam@aparinnosys.com w...</td>\n",
       "    </tr>\n",
       "    <tr>\n",
       "      <th>6</th>\n",
       "      <td>971196</td>\n",
       "      <td>735ab6</td>\n",
       "      <td>2021-10-05 17:11:23</td>\n",
       "      <td>Backroom door operated without authorization</td>\n",
       "      <td>Critical</td>\n",
       "      <td>2021-10-05 17:12:08.193</td>\n",
       "      <td>arunkumar.panchavarnam@aparinnosys.com</td>\n",
       "      <td>2021-10-05 17:27:28.667</td>\n",
       "      <td>true</td>\n",
       "      <td>11016</td>\n",
       "      <td>ID209011</td>\n",
       "      <td>arunkumar.panchavarnam@aparinnosys.com</td>\n",
       "      <td>2021-10-05 17:12:40.773</td>\n",
       "      <td>&lt;br/&gt; arunkumar.panchavarnam@aparinnosys.com w...</td>\n",
       "    </tr>\n",
       "    <tr>\n",
       "      <th>9</th>\n",
       "      <td>971201</td>\n",
       "      <td>735ab6</td>\n",
       "      <td>2021-10-05 17:12:50</td>\n",
       "      <td>ATM-1 Chest Door operated without authorization</td>\n",
       "      <td>Critical</td>\n",
       "      <td>2021-10-05 17:12:47.690</td>\n",
       "      <td>arunkumar.panchavarnam@aparinnosys.com</td>\n",
       "      <td>2021-10-05 17:27:51.250</td>\n",
       "      <td>true</td>\n",
       "      <td>11016</td>\n",
       "      <td>ID209011</td>\n",
       "      <td>arunkumar.panchavarnam@aparinnosys.com</td>\n",
       "      <td>2021-10-05 17:15:16.910</td>\n",
       "      <td>&lt;br/&gt; arunkumar.panchavarnam@aparinnosys.com w...</td>\n",
       "    </tr>\n",
       "  </tbody>\n",
       "</table>\n",
       "</div>"
      ],
      "text/plain": [
       "   EventId   McuId              AtTime  \\\n",
       "1   967527  735ab6 2021-10-04 06:18:06   \n",
       "2   967527  735ab6 2021-10-04 06:18:06   \n",
       "4   969055  735ab6 2021-10-04 17:19:44   \n",
       "6   971196  735ab6 2021-10-05 17:11:23   \n",
       "9   971201  735ab6 2021-10-05 17:12:50   \n",
       "\n",
       "                                               Msg EventType  \\\n",
       "1     Backroom door operated without authorization  Critical   \n",
       "2     Backroom door operated without authorization  Critical   \n",
       "4  ATM-1 Chest Door operated without authorization  Critical   \n",
       "6     Backroom door operated without authorization  Critical   \n",
       "9  ATM-1 Chest Door operated without authorization  Critical   \n",
       "\n",
       "                 OpenedOn                                ClosedBy  \\\n",
       "1 2021-10-04 06:17:34.570     prasanth.loganathan@aparinnosys.com   \n",
       "2 2021-10-04 06:17:34.570     prasanth.loganathan@aparinnosys.com   \n",
       "4 2021-10-04 17:19:10.327  arunkumar.panchavarnam@aparinnosys.com   \n",
       "6 2021-10-05 17:12:08.193  arunkumar.panchavarnam@aparinnosys.com   \n",
       "9 2021-10-05 17:12:47.690  arunkumar.panchavarnam@aparinnosys.com   \n",
       "\n",
       "                 ClosedOn qStatus   s_Id    s_Name  \\\n",
       "1 2021-10-04 06:22:33.933    true  11016  ID209011   \n",
       "2 2021-10-04 06:22:33.933    true  11016  ID209011   \n",
       "4 2021-10-04 17:40:07.810    true  11016  ID209011   \n",
       "6 2021-10-05 17:27:28.667    true  11016  ID209011   \n",
       "9 2021-10-05 17:27:51.250    true  11016  ID209011   \n",
       "\n",
       "                                UpdatedBy               UpdatedON  \\\n",
       "1     prasanth.loganathan@aparinnosys.com 2021-10-04 06:19:20.263   \n",
       "2     prasanth.loganathan@aparinnosys.com 2021-10-04 06:19:20.360   \n",
       "4  arunkumar.panchavarnam@aparinnosys.com 2021-10-04 17:24:53.820   \n",
       "6  arunkumar.panchavarnam@aparinnosys.com 2021-10-05 17:12:40.773   \n",
       "9  arunkumar.panchavarnam@aparinnosys.com 2021-10-05 17:15:16.910   \n",
       "\n",
       "                                             Remarks  \n",
       "1  <br/> prasanth.loganathan@aparinnosys.com working  \n",
       "2  <br/> prasanth.loganathan@aparinnosys.com working  \n",
       "4  <br/> arunkumar.panchavarnam@aparinnosys.com w...  \n",
       "6  <br/> arunkumar.panchavarnam@aparinnosys.com w...  \n",
       "9  <br/> arunkumar.panchavarnam@aparinnosys.com w...  "
      ]
     },
     "execution_count": 30,
     "metadata": {},
     "output_type": "execute_result"
    }
   ],
   "source": [
    "Events.head()"
   ]
  },
  {
   "cell_type": "code",
   "execution_count": 56,
   "id": "49e16aa0",
   "metadata": {},
   "outputs": [],
   "source": [
    "Events['TicketAge']=Events['ClosedOn']-Events['OpenedOn']\n",
    "Events['AcknowledgeAge']=Events['UpdatedON']-Events['OpenedOn']\n",
    "Events['TicketAge']=Events['TicketAge'].astype('timedelta64[m]')\n",
    "Events['AcknowledgeAge']=Events['AcknowledgeAge'].astype('timedelta64[m]')"
   ]
  },
  {
   "cell_type": "code",
   "execution_count": 57,
   "id": "aa0960ea",
   "metadata": {},
   "outputs": [
    {
     "data": {
      "text/plain": [
       "(8836, 17)"
      ]
     },
     "execution_count": 57,
     "metadata": {},
     "output_type": "execute_result"
    }
   ],
   "source": [
    "Events=Events.drop_duplicates(keep='first')\n",
    "Events.shape"
   ]
  },
  {
   "cell_type": "code",
   "execution_count": 58,
   "id": "82caf041",
   "metadata": {},
   "outputs": [],
   "source": [
    "import numpy as np"
   ]
  },
  {
   "cell_type": "code",
   "execution_count": 59,
   "id": "2dcc7ff6",
   "metadata": {},
   "outputs": [
    {
     "data": {
      "text/html": [
       "<div>\n",
       "<style scoped>\n",
       "    .dataframe tbody tr th:only-of-type {\n",
       "        vertical-align: middle;\n",
       "    }\n",
       "\n",
       "    .dataframe tbody tr th {\n",
       "        vertical-align: top;\n",
       "    }\n",
       "\n",
       "    .dataframe thead th {\n",
       "        text-align: right;\n",
       "    }\n",
       "</style>\n",
       "<table border=\"1\" class=\"dataframe\">\n",
       "  <thead>\n",
       "    <tr style=\"text-align: right;\">\n",
       "      <th></th>\n",
       "      <th>EventId</th>\n",
       "      <th>McuId</th>\n",
       "      <th>AtTime</th>\n",
       "      <th>Msg</th>\n",
       "      <th>EventType</th>\n",
       "      <th>OpenedOn</th>\n",
       "      <th>ClosedBy</th>\n",
       "      <th>ClosedOn</th>\n",
       "      <th>qStatus</th>\n",
       "      <th>s_Id</th>\n",
       "      <th>s_Name</th>\n",
       "      <th>UpdatedBy</th>\n",
       "      <th>UpdatedON</th>\n",
       "      <th>Remarks</th>\n",
       "      <th>TicketAge</th>\n",
       "      <th>AcknowledgeAge</th>\n",
       "      <th>Penalty</th>\n",
       "    </tr>\n",
       "  </thead>\n",
       "  <tbody>\n",
       "    <tr>\n",
       "      <th>1</th>\n",
       "      <td>967527</td>\n",
       "      <td>735ab6</td>\n",
       "      <td>2021-10-04 06:18:06</td>\n",
       "      <td>Backroom door operated without authorization</td>\n",
       "      <td>Critical</td>\n",
       "      <td>2021-10-04 06:17:34.570</td>\n",
       "      <td>prasanth.loganathan@aparinnosys.com</td>\n",
       "      <td>2021-10-04 06:22:33.933</td>\n",
       "      <td>true</td>\n",
       "      <td>11016</td>\n",
       "      <td>ID209011</td>\n",
       "      <td>prasanth.loganathan@aparinnosys.com</td>\n",
       "      <td>2021-10-04 06:19:20.263</td>\n",
       "      <td>&lt;br/&gt; prasanth.loganathan@aparinnosys.com working</td>\n",
       "      <td>4.0</td>\n",
       "      <td>1.0</td>\n",
       "      <td>0</td>\n",
       "    </tr>\n",
       "    <tr>\n",
       "      <th>2</th>\n",
       "      <td>967527</td>\n",
       "      <td>735ab6</td>\n",
       "      <td>2021-10-04 06:18:06</td>\n",
       "      <td>Backroom door operated without authorization</td>\n",
       "      <td>Critical</td>\n",
       "      <td>2021-10-04 06:17:34.570</td>\n",
       "      <td>prasanth.loganathan@aparinnosys.com</td>\n",
       "      <td>2021-10-04 06:22:33.933</td>\n",
       "      <td>true</td>\n",
       "      <td>11016</td>\n",
       "      <td>ID209011</td>\n",
       "      <td>prasanth.loganathan@aparinnosys.com</td>\n",
       "      <td>2021-10-04 06:19:20.360</td>\n",
       "      <td>&lt;br/&gt; prasanth.loganathan@aparinnosys.com working</td>\n",
       "      <td>4.0</td>\n",
       "      <td>1.0</td>\n",
       "      <td>0</td>\n",
       "    </tr>\n",
       "    <tr>\n",
       "      <th>4</th>\n",
       "      <td>969055</td>\n",
       "      <td>735ab6</td>\n",
       "      <td>2021-10-04 17:19:44</td>\n",
       "      <td>ATM-1 Chest Door operated without authorization</td>\n",
       "      <td>Critical</td>\n",
       "      <td>2021-10-04 17:19:10.327</td>\n",
       "      <td>arunkumar.panchavarnam@aparinnosys.com</td>\n",
       "      <td>2021-10-04 17:40:07.810</td>\n",
       "      <td>true</td>\n",
       "      <td>11016</td>\n",
       "      <td>ID209011</td>\n",
       "      <td>arunkumar.panchavarnam@aparinnosys.com</td>\n",
       "      <td>2021-10-04 17:24:53.820</td>\n",
       "      <td>&lt;br/&gt; arunkumar.panchavarnam@aparinnosys.com w...</td>\n",
       "      <td>20.0</td>\n",
       "      <td>5.0</td>\n",
       "      <td>0</td>\n",
       "    </tr>\n",
       "    <tr>\n",
       "      <th>6</th>\n",
       "      <td>971196</td>\n",
       "      <td>735ab6</td>\n",
       "      <td>2021-10-05 17:11:23</td>\n",
       "      <td>Backroom door operated without authorization</td>\n",
       "      <td>Critical</td>\n",
       "      <td>2021-10-05 17:12:08.193</td>\n",
       "      <td>arunkumar.panchavarnam@aparinnosys.com</td>\n",
       "      <td>2021-10-05 17:27:28.667</td>\n",
       "      <td>true</td>\n",
       "      <td>11016</td>\n",
       "      <td>ID209011</td>\n",
       "      <td>arunkumar.panchavarnam@aparinnosys.com</td>\n",
       "      <td>2021-10-05 17:12:40.773</td>\n",
       "      <td>&lt;br/&gt; arunkumar.panchavarnam@aparinnosys.com w...</td>\n",
       "      <td>15.0</td>\n",
       "      <td>0.0</td>\n",
       "      <td>0</td>\n",
       "    </tr>\n",
       "    <tr>\n",
       "      <th>9</th>\n",
       "      <td>971201</td>\n",
       "      <td>735ab6</td>\n",
       "      <td>2021-10-05 17:12:50</td>\n",
       "      <td>ATM-1 Chest Door operated without authorization</td>\n",
       "      <td>Critical</td>\n",
       "      <td>2021-10-05 17:12:47.690</td>\n",
       "      <td>arunkumar.panchavarnam@aparinnosys.com</td>\n",
       "      <td>2021-10-05 17:27:51.250</td>\n",
       "      <td>true</td>\n",
       "      <td>11016</td>\n",
       "      <td>ID209011</td>\n",
       "      <td>arunkumar.panchavarnam@aparinnosys.com</td>\n",
       "      <td>2021-10-05 17:15:16.910</td>\n",
       "      <td>&lt;br/&gt; arunkumar.panchavarnam@aparinnosys.com w...</td>\n",
       "      <td>15.0</td>\n",
       "      <td>2.0</td>\n",
       "      <td>0</td>\n",
       "    </tr>\n",
       "  </tbody>\n",
       "</table>\n",
       "</div>"
      ],
      "text/plain": [
       "   EventId   McuId              AtTime  \\\n",
       "1   967527  735ab6 2021-10-04 06:18:06   \n",
       "2   967527  735ab6 2021-10-04 06:18:06   \n",
       "4   969055  735ab6 2021-10-04 17:19:44   \n",
       "6   971196  735ab6 2021-10-05 17:11:23   \n",
       "9   971201  735ab6 2021-10-05 17:12:50   \n",
       "\n",
       "                                               Msg EventType  \\\n",
       "1     Backroom door operated without authorization  Critical   \n",
       "2     Backroom door operated without authorization  Critical   \n",
       "4  ATM-1 Chest Door operated without authorization  Critical   \n",
       "6     Backroom door operated without authorization  Critical   \n",
       "9  ATM-1 Chest Door operated without authorization  Critical   \n",
       "\n",
       "                 OpenedOn                                ClosedBy  \\\n",
       "1 2021-10-04 06:17:34.570     prasanth.loganathan@aparinnosys.com   \n",
       "2 2021-10-04 06:17:34.570     prasanth.loganathan@aparinnosys.com   \n",
       "4 2021-10-04 17:19:10.327  arunkumar.panchavarnam@aparinnosys.com   \n",
       "6 2021-10-05 17:12:08.193  arunkumar.panchavarnam@aparinnosys.com   \n",
       "9 2021-10-05 17:12:47.690  arunkumar.panchavarnam@aparinnosys.com   \n",
       "\n",
       "                 ClosedOn qStatus   s_Id    s_Name  \\\n",
       "1 2021-10-04 06:22:33.933    true  11016  ID209011   \n",
       "2 2021-10-04 06:22:33.933    true  11016  ID209011   \n",
       "4 2021-10-04 17:40:07.810    true  11016  ID209011   \n",
       "6 2021-10-05 17:27:28.667    true  11016  ID209011   \n",
       "9 2021-10-05 17:27:51.250    true  11016  ID209011   \n",
       "\n",
       "                                UpdatedBy               UpdatedON  \\\n",
       "1     prasanth.loganathan@aparinnosys.com 2021-10-04 06:19:20.263   \n",
       "2     prasanth.loganathan@aparinnosys.com 2021-10-04 06:19:20.360   \n",
       "4  arunkumar.panchavarnam@aparinnosys.com 2021-10-04 17:24:53.820   \n",
       "6  arunkumar.panchavarnam@aparinnosys.com 2021-10-05 17:12:40.773   \n",
       "9  arunkumar.panchavarnam@aparinnosys.com 2021-10-05 17:15:16.910   \n",
       "\n",
       "                                             Remarks  TicketAge  \\\n",
       "1  <br/> prasanth.loganathan@aparinnosys.com working        4.0   \n",
       "2  <br/> prasanth.loganathan@aparinnosys.com working        4.0   \n",
       "4  <br/> arunkumar.panchavarnam@aparinnosys.com w...       20.0   \n",
       "6  <br/> arunkumar.panchavarnam@aparinnosys.com w...       15.0   \n",
       "9  <br/> arunkumar.panchavarnam@aparinnosys.com w...       15.0   \n",
       "\n",
       "   AcknowledgeAge Penalty  \n",
       "1             1.0       0  \n",
       "2             1.0       0  \n",
       "4             5.0       0  \n",
       "6             0.0       0  \n",
       "9             2.0       0  "
      ]
     },
     "execution_count": 59,
     "metadata": {},
     "output_type": "execute_result"
    }
   ],
   "source": [
    "conditions = [\n",
    "    (Events['EventType'] == 'SOS') & (Events['TicketAge'] > 30),\n",
    "    (Events['EventType'] == 'Critical') & (Events['TicketAge'] > 60),\n",
    "    (Events['EventType'] == 'SOS') & (Events['AcknowledgeAge'] > 5),\n",
    "    (Events['EventType'] == 'Critical') & (Events['AcknowledgeAge'] > 10)]\n",
    "\n",
    "# create a list of the values we want to assign for each condition\n",
    "values = ['Penalty Applicable','Penalty Applicable','Penalty Applicable','Penalty Applicable']\n",
    "\n",
    "# create a new column and use np.select to assign values to it using our lists as arguments\n",
    "Events['Penalty'] = np.select(conditions, values)\n",
    "\n",
    "# display updated DataFrame\n",
    "Events.head()"
   ]
  },
  {
   "cell_type": "code",
   "execution_count": 60,
   "id": "abbcc4fd",
   "metadata": {},
   "outputs": [
    {
     "data": {
      "text/plain": [
       "0                     8149\n",
       "Penalty Applicable     687\n",
       "Name: Penalty, dtype: int64"
      ]
     },
     "execution_count": 60,
     "metadata": {},
     "output_type": "execute_result"
    }
   ],
   "source": [
    "Events['Penalty'].value_counts()"
   ]
  },
  {
   "cell_type": "code",
   "execution_count": 61,
   "id": "a031cdd4",
   "metadata": {},
   "outputs": [],
   "source": [
    "sos=Events[(Events['EventType']=='SOS') & (Events['Penalty']=='Penalty Applicable')]"
   ]
  },
  {
   "cell_type": "code",
   "execution_count": 62,
   "id": "ccf4b161",
   "metadata": {},
   "outputs": [
    {
     "data": {
      "text/plain": [
       "(162, 17)"
      ]
     },
     "execution_count": 62,
     "metadata": {},
     "output_type": "execute_result"
    }
   ],
   "source": [
    "sos.shape"
   ]
  },
  {
   "cell_type": "code",
   "execution_count": 63,
   "id": "dcbace0d",
   "metadata": {},
   "outputs": [],
   "source": [
    "penalty=Events[Events['Penalty']=='Penalty Applicable']"
   ]
  },
  {
   "cell_type": "code",
   "execution_count": 64,
   "id": "c7eb015e",
   "metadata": {},
   "outputs": [
    {
     "data": {
      "text/plain": [
       "(687, 17)"
      ]
     },
     "execution_count": 64,
     "metadata": {},
     "output_type": "execute_result"
    }
   ],
   "source": [
    "penalty.shape"
   ]
  },
  {
   "cell_type": "code",
   "execution_count": 66,
   "id": "a8c9ddec",
   "metadata": {},
   "outputs": [],
   "source": [
    "penalty.to_csv('penalty.csv')"
   ]
  },
  {
   "cell_type": "code",
   "execution_count": null,
   "id": "7783042d",
   "metadata": {},
   "outputs": [],
   "source": []
  }
 ],
 "metadata": {
  "kernelspec": {
   "display_name": "Python 3",
   "language": "python",
   "name": "python3"
  },
  "language_info": {
   "codemirror_mode": {
    "name": "ipython",
    "version": 3
   },
   "file_extension": ".py",
   "mimetype": "text/x-python",
   "name": "python",
   "nbconvert_exporter": "python",
   "pygments_lexer": "ipython3",
   "version": "3.8.8"
  }
 },
 "nbformat": 4,
 "nbformat_minor": 5
}
