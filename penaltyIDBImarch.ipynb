{
 "cells": [
  {
   "cell_type": "code",
   "execution_count": null,
   "id": "31692491",
   "metadata": {},
   "outputs": [],
   "source": [
    "!pip install pymssql --user"
   ]
  },
  {
   "cell_type": "code",
   "execution_count": 1,
   "id": "67ac7c6c",
   "metadata": {},
   "outputs": [],
   "source": [
    "import pandas as pd\n",
    "import pymssql"
   ]
  },
  {
   "cell_type": "code",
   "execution_count": 4,
   "id": "e3a848b8",
   "metadata": {},
   "outputs": [],
   "source": [
    "events=pd.read_sql(\"select EventId,McuId,AtTime,Msg,EventType,OpenedOn,ClosedBy,ClosedOn,qStatus from lbtEvents where OpenedOn>='2021-03-01 00:00:00' and OpenedOn<'2021-04-01 00:00:00' \",conn)"
   ]
  },
  {
   "cell_type": "code",
   "execution_count": 5,
   "id": "d5626f64",
   "metadata": {},
   "outputs": [
    {
     "data": {
      "text/plain": [
       "(35448, 9)"
      ]
     },
     "execution_count": 5,
     "metadata": {},
     "output_type": "execute_result"
    }
   ],
   "source": [
    "pd.set_option('display.max_columns',None)\n",
    "events.shape"
   ]
  },
  {
   "cell_type": "code",
   "execution_count": 6,
   "id": "f0d8e4fe",
   "metadata": {},
   "outputs": [
    {
     "data": {
      "text/html": [
       "<div>\n",
       "<style scoped>\n",
       "    .dataframe tbody tr th:only-of-type {\n",
       "        vertical-align: middle;\n",
       "    }\n",
       "\n",
       "    .dataframe tbody tr th {\n",
       "        vertical-align: top;\n",
       "    }\n",
       "\n",
       "    .dataframe thead th {\n",
       "        text-align: right;\n",
       "    }\n",
       "</style>\n",
       "<table border=\"1\" class=\"dataframe\">\n",
       "  <thead>\n",
       "    <tr style=\"text-align: right;\">\n",
       "      <th></th>\n",
       "      <th>s_Id</th>\n",
       "      <th>s_Name</th>\n",
       "      <th>McuId</th>\n",
       "    </tr>\n",
       "  </thead>\n",
       "  <tbody>\n",
       "    <tr>\n",
       "      <th>0</th>\n",
       "      <td>11014</td>\n",
       "      <td>ID021112</td>\n",
       "      <td>7359fb</td>\n",
       "    </tr>\n",
       "    <tr>\n",
       "      <th>1</th>\n",
       "      <td>11015</td>\n",
       "      <td>ID000614</td>\n",
       "      <td>735572</td>\n",
       "    </tr>\n",
       "    <tr>\n",
       "      <th>2</th>\n",
       "      <td>11016</td>\n",
       "      <td>ID209011</td>\n",
       "      <td>735ab6</td>\n",
       "    </tr>\n",
       "    <tr>\n",
       "      <th>3</th>\n",
       "      <td>11019</td>\n",
       "      <td>ID000621</td>\n",
       "      <td>735b50</td>\n",
       "    </tr>\n",
       "    <tr>\n",
       "      <th>4</th>\n",
       "      <td>11020</td>\n",
       "      <td>ID021314</td>\n",
       "      <td>735eb8</td>\n",
       "    </tr>\n",
       "  </tbody>\n",
       "</table>\n",
       "</div>"
      ],
      "text/plain": [
       "    s_Id    s_Name   McuId\n",
       "0  11014  ID021112  7359fb\n",
       "1  11015  ID000614  735572\n",
       "2  11016  ID209011  735ab6\n",
       "3  11019  ID000621  735b50\n",
       "4  11020  ID021314  735eb8"
      ]
     },
     "execution_count": 6,
     "metadata": {},
     "output_type": "execute_result"
    }
   ],
   "source": [
    "sitemas=pd.read_sql('Select s_Id,s_Name,McuId from lbtSiteMas',conn)\n",
    "sitemas.head()"
   ]
  },
  {
   "cell_type": "code",
   "execution_count": 7,
   "id": "66d5d4d2",
   "metadata": {},
   "outputs": [],
   "source": [
    "merge1=pd.merge(events,sitemas,on='McuId')"
   ]
  },
  {
   "cell_type": "code",
   "execution_count": 11,
   "id": "aa97463d",
   "metadata": {},
   "outputs": [
    {
     "data": {
      "text/plain": [
       "(35348, 11)"
      ]
     },
     "execution_count": 11,
     "metadata": {},
     "output_type": "execute_result"
    }
   ],
   "source": [
    "merge1.shape"
   ]
  },
  {
   "cell_type": "code",
   "execution_count": 12,
   "id": "567d7091",
   "metadata": {},
   "outputs": [
    {
     "data": {
      "text/html": [
       "<div>\n",
       "<style scoped>\n",
       "    .dataframe tbody tr th:only-of-type {\n",
       "        vertical-align: middle;\n",
       "    }\n",
       "\n",
       "    .dataframe tbody tr th {\n",
       "        vertical-align: top;\n",
       "    }\n",
       "\n",
       "    .dataframe thead th {\n",
       "        text-align: right;\n",
       "    }\n",
       "</style>\n",
       "<table border=\"1\" class=\"dataframe\">\n",
       "  <thead>\n",
       "    <tr style=\"text-align: right;\">\n",
       "      <th></th>\n",
       "      <th>EventId</th>\n",
       "      <th>UpdatedBy</th>\n",
       "      <th>UpdatedON</th>\n",
       "      <th>Remarks</th>\n",
       "    </tr>\n",
       "  </thead>\n",
       "  <tbody>\n",
       "    <tr>\n",
       "      <th>0</th>\n",
       "      <td>1589</td>\n",
       "      <td>SYSTEM</td>\n",
       "      <td>2021-03-12 20:22:39.233</td>\n",
       "      <td>Main Power Failure marked at:12-Mar-2021 17:35</td>\n",
       "    </tr>\n",
       "    <tr>\n",
       "      <th>1</th>\n",
       "      <td>1625</td>\n",
       "      <td>SYSTEM</td>\n",
       "      <td>2021-03-12 20:22:39.233</td>\n",
       "      <td>Main Power Failure marked at:12-Mar-2021 17:35</td>\n",
       "    </tr>\n",
       "    <tr>\n",
       "      <th>2</th>\n",
       "      <td>3889</td>\n",
       "      <td>SYSTEM</td>\n",
       "      <td>2021-03-18 17:31:28.213</td>\n",
       "      <td>Main Power Failure marked at:18-Mar-2021 16:18</td>\n",
       "    </tr>\n",
       "    <tr>\n",
       "      <th>3</th>\n",
       "      <td>18786</td>\n",
       "      <td>SYSTEM</td>\n",
       "      <td>2021-03-12 20:22:39.233</td>\n",
       "      <td>Main Power Failure marked at:12-Mar-2021 17:35</td>\n",
       "    </tr>\n",
       "    <tr>\n",
       "      <th>4</th>\n",
       "      <td>29779</td>\n",
       "      <td>SYSTEM</td>\n",
       "      <td>2021-03-12 20:22:39.233</td>\n",
       "      <td>Main Power Failure marked at:12-Mar-2021 17:35</td>\n",
       "    </tr>\n",
       "  </tbody>\n",
       "</table>\n",
       "</div>"
      ],
      "text/plain": [
       "   EventId UpdatedBy               UpdatedON  \\\n",
       "0     1589    SYSTEM 2021-03-12 20:22:39.233   \n",
       "1     1625    SYSTEM 2021-03-12 20:22:39.233   \n",
       "2     3889    SYSTEM 2021-03-18 17:31:28.213   \n",
       "3    18786    SYSTEM 2021-03-12 20:22:39.233   \n",
       "4    29779    SYSTEM 2021-03-12 20:22:39.233   \n",
       "\n",
       "                                          Remarks  \n",
       "0  Main Power Failure marked at:12-Mar-2021 17:35  \n",
       "1  Main Power Failure marked at:12-Mar-2021 17:35  \n",
       "2  Main Power Failure marked at:18-Mar-2021 16:18  \n",
       "3  Main Power Failure marked at:12-Mar-2021 17:35  \n",
       "4  Main Power Failure marked at:12-Mar-2021 17:35  "
      ]
     },
     "execution_count": 12,
     "metadata": {},
     "output_type": "execute_result"
    }
   ],
   "source": [
    "remarks=pd.read_sql(\"select EventId,UpdatedBy,UpdatedON,Remarks from lbtEventsRemarks where UpdatedON>='2021-03-01 00:00:00' and UpdatedON<='2021-04-01 00:00:00' \",conn)\n",
    "remarks.head()"
   ]
  },
  {
   "cell_type": "code",
   "execution_count": 14,
   "id": "4e99d265",
   "metadata": {},
   "outputs": [],
   "source": [
    "merge2=pd.merge(merge1,remarks,on='EventId')"
   ]
  },
  {
   "cell_type": "code",
   "execution_count": 15,
   "id": "b2236eff",
   "metadata": {},
   "outputs": [
    {
     "data": {
      "text/plain": [
       "(19141, 14)"
      ]
     },
     "execution_count": 15,
     "metadata": {},
     "output_type": "execute_result"
    }
   ],
   "source": [
    "merge2.shape"
   ]
  },
  {
   "cell_type": "code",
   "execution_count": 16,
   "id": "95d971bd",
   "metadata": {},
   "outputs": [
    {
     "data": {
      "text/plain": [
       "(15345, 14)"
      ]
     },
     "execution_count": 16,
     "metadata": {},
     "output_type": "execute_result"
    }
   ],
   "source": [
    "merge3=merge2.drop_duplicates(keep='first')\n",
    "merge3['qStatus']=merge3['qStatus'].astype(str)\n",
    "merge3['qStatus']=merge3['qStatus'].str.lower()\n",
    "merge4=merge3[merge3['qStatus']=='true']\n",
    "merge4.shape"
   ]
  },
  {
   "cell_type": "code",
   "execution_count": 17,
   "id": "2a5b14fe",
   "metadata": {},
   "outputs": [
    {
     "name": "stdout",
     "output_type": "stream",
     "text": [
      "(510, 14)\n",
      "(14835, 14)\n"
     ]
    },
    {
     "name": "stderr",
     "output_type": "stream",
     "text": [
      "<ipython-input-17-b792b54e7f4f>:1: SettingWithCopyWarning: \n",
      "A value is trying to be set on a copy of a slice from a DataFrame.\n",
      "Try using .loc[row_indexer,col_indexer] = value instead\n",
      "\n",
      "See the caveats in the documentation: https://pandas.pydata.org/pandas-docs/stable/user_guide/indexing.html#returning-a-view-versus-a-copy\n",
      "  merge4['ClosedBy']=merge4['ClosedBy'].str.lower()\n"
     ]
    }
   ],
   "source": [
    "merge4['ClosedBy']=merge4['ClosedBy'].str.lower()\n",
    "mergedrop=merge4[merge4['ClosedBy']=='system']\n",
    "print(mergedrop.shape)\n",
    "merge5=merge4.drop(mergedrop.index)\n",
    "print(merge5.shape)"
   ]
  },
  {
   "cell_type": "code",
   "execution_count": 36,
   "id": "fbb69533",
   "metadata": {},
   "outputs": [
    {
     "data": {
      "text/plain": [
       "<br/> raghunath.elangovan@aparinnosys.com working                                                                                                                                                                                                                                                                    2043\n",
       "<br/> arunkumar.panchavarnam@aparinnosys.com working                                                                                                                                                                                                                                                                 1781\n",
       "<br/> aravind.hariharan@aparinnosys.com working                                                                                                                                                                                                                                                                       488\n",
       "<br/> vijayadevi.veerasamy@aparinnosys.com working                                                                                                                                                                                                                                                                    203\n",
       "<br/> vijayadevi.veerasamy@aparinnosys.com as per the event video custodian working on the site, hence ticket closed.//vijayadevi v\\n                                                                                                                                                                                 193\n",
       "<br/> thiruppathy.mani@aparinnosys.com working                                                                                                                                                                                                                                                                        193\n",
       "<br/> srihari.kannan@aparinnosys.com working                                                                                                                                                                                                                                                                          187\n",
       "<br/> vijayadevi.veerasamy@aparinnosys.com as per the event video house keeping person working on the site, hence ticket closed.//vijayadevi v\\n                                                                                                                                                                      155\n",
       "<br/> vijayadevi.veerasamy@aparinnosys.com as per the event video cit person working on the site, hence ticket closed.//vijayadevi v\\n                                                                                                                                                                                137\n",
       "<br/> arunkumar.panchavarnam@aparinnosys.com as per event  video custodian working  hence the ticket is  generated  same has been closed //arun\\n                                                                                                                                                                     103\n",
       "<br/> arunkumar.panchavarnam@aparinnosys.com technician working attendance also marked //arun                                                                                                                                                                                                                          97\n",
       "<br/> naveen.balasundaram@aparinnosys.com working                                                                                                                                                                                                                                                                      84\n",
       "<br/> thiruppathy.mani@aparinnosys.com as per event video housekeeping person working at site. hence closed the ticket  // thiruppathy\\n                                                                                                                                                                               70\n",
       "<br/> raghunath.elangovan@aparinnosys.com as per the live streaming, technician is working at the site and the attendance is marked. hence the ticket is closed.\\\\raghunath                                                                                                                                            47\n",
       "<br/> vijayadevi.veerasamy@aparinnosys.com apar engineer working on the site also attendance marked, hence ticket closed.// vijayadevi v\\n                                                                                                                                                                             42\n",
       "<br/> aravind.hariharan@aparinnosys.com as per event video technician is working at the site attendance is also marked hence the ticket is closed//aravind                                                                                                                                                             29\n",
       "<br/> vijayadevi.veerasamy@aparinnosys.com as per the stored video cit person working on the site, hence ticket closed.//vijayadevi v\\n                                                                                                                                                                                29\n",
       "<br/> raghunath.elangovan@aparinnosys.com as per the event video, technician is working at the site and the attendance is marked. hence the ticket  is closed.\\\\raghunath                                                                                                                                              19\n",
       "<br/> arunkumar.panchavarnam@aparinnosys.com technician working attendance also marked /arun                                                                                                                                                                                                                           17\n",
       "<br/> raghul.nagarajan@aparinnosys.com working                                                                                                                                                                                                                                                                         16\n",
       "<br/> raghunath.elangovan@aparinnosys.com as per the live streaming, the apar engineer divansh is working on the site attendance is marked, hence the ticket is closed.\\\\raghunath                                                                                                                                     15\n",
       "<br/> thiruppathy.mani@aparinnosys.com our apar engineer working at site attendance marked hence ticket closed//thiruppathy\\n                                                                                                                                                                                          13\n",
       "<br/> arunkumar.panchavarnam@aparinnosys.com as per the event  video custodian working  hence the ticket is  generated  same has been closed //arun\\n                                                                                                                                                                  12\n",
       "<br/> raghunath.elangovan@aparinnosys.com as per the live streaming, the apar engineer saran is working on the site attendance is marked, hence the ticket is closed.\\\\raghunath                                                                                                                                       12\n",
       "<br/> arunkumar.panchavarnam@aparinnosys.com technician working at the site attendance also marked //arun                                                                                                                                                                                                              11\n",
       "<br/> vijayadevi.veerasamy@aparinnosys.com as per the event video flm person working on the site, hence ticket closed.//vijayadevi v\\n                                                                                                                                                                                 11\n",
       "<br/> raghunath.elangovan@aparinnosys.com as per the live streaming, the apar engineer is working on the site attendance is marked, hence the ticket is closed.\\\\raghunath                                                                                                                                             11\n",
       "<br/> arunkumar.panchavarnam@aparinnosys.com technician working attendance  not marked //arun                                                                                                                                                                                                                          11\n",
       "<br/> arunkumar.panchavarnam@aparinnosys.com technician working attendance also marked//arun                                                                                                                                                                                                                           10\n",
       "<br/> arunkumar.panchavarnam@aparinnosys.com technician  working  attendance also marked //arun                                                                                                                                                                                                                        10\n",
       "<br/> arunkumar.panchavarnam@aparinnosys.com techncian working //arun                                                                                                                                                                                                                                                  10\n",
       "<br/> arunkumar.panchavarnam@aparinnosys.com technician working attendance also marked// arun                                                                                                                                                                                                                          10\n",
       "<br/> thiruppathy.mani@aparinnosys.com as per event video cit person working at site. hence closed the ticket  // thiruppathy\\n                                                                                                                                                                                         9\n",
       "<br/> raghunath.elangovan@aparinnosys.com as per the live streaming, the apar engineer souhail is working on the site attendance is marked, hence the ticket is closed.\\\\raghunath                                                                                                                                      9\n",
       "<br/> raghul.nagarajan@aparinnosys.com our technician working on the  site and attendance also marked hence ticket closed//raghul\\n                                                                                                                                                                                     8\n",
       "<br/> vijayadevi.veerasamy@aparinnosys.com apar engineer neeraj working on the site also attendance marked, hence ticket closed.// vijayadevi v\\n                                                                                                                                                                       8\n",
       "<br/> vijayadevi.veerasamy@aparinnosys.com as per the stored video custodian working on the site, hence ticket closed.//vijayadevi v\\n                                                                                                                                                                                  8\n",
       "<br/> arunkumar.panchavarnam@aparinnosys.com as per stored video custodian working  hence the ticket is  generated  same has been closed //arun\\n                                                                                                                                                                       7\n",
       "<br/> thiruppathy.mani@aparinnosys.com working\\n                                                                                                                                                                                                                                                                        7\n",
       "<br/> arunkumar.panchavarnam@aparinnosys.com technician working attendance also marked //arun                                                                                                                                                                                                                           7\n",
       "<br/> arunkumar.panchavarnam@aparinnosys.com technician working and attendance also marked //arun                                                                                                                                                                                                                       7\n",
       "<br/> arunkumar.panchavarnam@aparinnosys.com technician working //arun                                                                                                                                                                                                                                                  7\n",
       "<br/> srihari.kannan@aparinnosys.com as per event video cit person is working at site and operated hood door hence ticket is closed // srihari                                                                                                                                                                          7\n",
       "<br/> arunkumar.panchavarnam@aparinnosys.com technician working  attendance marked //arun                                                                                                                                                                                                                               6\n",
       "<br/> monica.suresh@aparinnosys.com working                                                                                                                                                                                                                                                                             6\n",
       "<br/> arunkumar.panchavarnam@aparinnosys.com our engineer is working at the site  attendance also marked //arun                                                                                                                                                                                                         6\n",
       "<br/> arunkumar.panchavarnam@aparinnosys.com working                                                                                                                                                                                                                                                                    6\n",
       "<br/> arunkumar.panchavarnam@aparinnosys.com qrt is working on the site //arun                                                                                                                                                                                                                                          6\n",
       "<br/> deviprasad.krishnaiah@aparinnosys.com working                                                                                                                                                                                                                                                                     6\n",
       "<br/> thiruppathy.mani@aparinnosys.com as per event video custodian person working at site. hence closed the ticket  // thiruppathy\\n                                                                                                                                                                                   5\n",
       "<br/> raghunath.elangovan@aparinnosys.com as per the event video, the apar engineer vedaprakash is working on the site attendance is marked, hence the ticket is closed.\\\\raghunath                                                                                                                                     5\n",
       "<br/> raghunath.elangovan@aparinnosys.com as per the live streaming, the apar engineer souhail is working on the site there is no issue and hence the ticket is closed.\\\\raghunath                                                                                                                                      5\n",
       "<br/> arunkumar.panchavarnam@aparinnosys.com technician working attendance also  marked //arun                                                                                                                                                                                                                          5\n",
       "<br/> vijayadevi.veerasamy@aparinnosys.com as per the stored video house keeping person working on the site, hence ticket closed.//vijayadevi v\\n                                                                                                                                                                       5\n",
       "<br/> thiruppathy.mani@aparinnosys.com as per event video custodian is working at site and he has operated the backroom,  hence ticket closed // thiruppathy\\n                                                                                                                                                          5\n",
       "<br/> arunkumar.panchavarnam@aparinnosys.com technician working attendance marked //arun                                                                                                                                                                                                                                4\n",
       "<br/> arunkumar.panchavarnam@aparinnosys.com as per live streaming  custodian working  hence the ticket is  generated  same has been closed //arun\\n                                                                                                                                                                    4\n",
       "<br/> aravind.hariharan@aparinnosys.com as per live streaming technician is working at the site attendance is also marked hence the ticket is closed//aravind                                                                                                                                                           4\n",
       "<br/> arunkumar.panchavarnam@aparinnosys.com technician working  attendance marked //arun                                                                                                                                                                                                                               4\n",
       "<br/> arunkumar.panchavarnam@aparinnosys.com technician working attendance also marked// arun                                                                                                                                                                                                                           4\n",
       "<br/> arunkumar.panchavarnam@aparinnosys.com as per event  video cit person  working  hence the ticket is  generated  same has been closed //arun\\n                                                                                                                                                                     4\n",
       "<br/> arunkumar.panchavarnam@aparinnosys.com as per event video cit person working on the site//arun                                                                                                                                                                                                                    4\n",
       "<br/> arunkumar.panchavarnam@aparinnosys.com technician working   attendance also marked //arun                                                                                                                                                                                                                         4\n",
       "<br/> raghunath.elangovan@aparinnosys.com as per the live streaming, the apar engineer chandan is working on the site there is no issue and hence the ticket is closed.\\\\raghunath                                                                                                                                      3\n",
       "<br/> raghunath.elangovan@aparinnosys.com as per the live streaming the cit person is working on the site and hence the ticket is closed.\\\\raghunath                                                                                                                                                                    3\n",
       "<br/> raghul.nagarajan@aparinnosys.com as per the event video technician operated the backroom door and they working on the site and there is no issue hence ticket closed//raghul\\n                                                                                                                                    3\n",
       "<br/> vijayadevi.veerasamy@aparinnosys.com as per the event video custodian working on the site, hence ticket closed.//vijayadevi v\\n\\nas per the event video house keeping person working on the site, hence ticket closed.//vijayadevi v\\n\\nas per the event video cheque collector operated the cheque drop bo       3\n",
       "<br/> deviprasad.krishnaiah@aparinnosys.com as per the event video housekeeping is working at the site //prasad\\n                                                                                                                                                                                                       3\n",
       "<br/> arunkumar.panchavarnam@aparinnosys.com as per event  video cit person working  hence the ticket is  generated  same has been closed //arun\\n                                                                                                                                                                      3\n",
       "<br/> arunkumar.panchavarnam@aparinnosys.com technician working attendance also marked /a/run                                                                                                                                                                                                                           3\n",
       "<br/> arunkumar.panchavarnam@aparinnosys.com the engineer is working at the site attendance also marked //arun                                                                                                                                                                                                          3\n",
       "<br/> vijayadevi.veerasamy@aparinnosys.com as per the event video bank person working on the site, hence ticket closed.//vijayadevi v\\n                                                                                                                                                                                 3\n",
       "<br/> manimekalai.ramakrishnan@aparinnosys.com as per the live streaming, apar engineer raghavendra working at the site. hence ticket closed//manimekalai                                                                                                                                                               3\n",
       "<br/> raghunath.elangovan@aparinnosys.com as per the live streaming, technician is working at the site there is no issue, hence the ticket is closed.\\\\raghunath                                                                                                                                                        3\n",
       "<br/> raghunath.elangovan@aparinnosys.com as per the live streaming, the apar engineer is working on the site there is no issue and hence the ticket is closed.\\\\raghunath                                                                                                                                              3\n",
       "<br/> jayalakshmi.ezhilarasan@aparinnosys.com our engineer pratap is working at the site//jaya                                                                                                                                                                                                                          3\n",
       "<br/> arunkumar.panchavarnam@aparinnosys.com technician working attendance not marked //arun                                                                                                                                                                                                                            3\n",
       "<br/> arunkumar.panchavarnam@aparinnosys.com technician working at the site and attendance also marked //arun                                                                                                                                                                                                           3\n",
       "<br/> arunkumar.panchavarnam@aparinnosys.com technician working attendance also marked a//arun                                                                                                                                                                                                                          3\n",
       "<br/> raghunath.elangovan@aparinnosys.com as per the event video, the apar engineer saran is working on the site attendance is marked, hence the ticket is closed.\\\\raghunath                                                                                                                                           2\n",
       "<br/> arunkumar.panchavarnam@aparinnosys.com technician working and there is no issue attendance  not marked //arun                                                                                                                                                                                                     2\n",
       "<br/> arunkumar.panchavarnam@aparinnosys.com as per event  video ac techncian working  hence the ticket is  generated  same has been closed //arun\\n                                                                                                                                                                    2\n",
       "<br/> vijayadevi.veerasamy@aparinnosys.com as per the event video qrt person working on the site also attendance marked, hence ticket closed.// vijayadevi v\\n                                                                                                                                                          2\n",
       "<br/> arunkumar.panchavarnam@aparinnosys.com as per the event   video, there is no issue at the site technician working   hence  the ticket is generated same has been  closed //arun\\n                                                                                                                                 2\n",
       "<br/> arunkumar.panchavarnam@aparinnosys.com technician working //arun                                                                                                                                                                                                                                                  2\n",
       "<br/> raghunath.elangovan@aparinnosys.com as per the live streaming the cit person is working on the site security guard is available and hence the ticket is closed.\\\\raghunath                                                                                                                                        2\n",
       "<br/> thiruppathy.mani@aparinnosys.com as per live video housekeeping person working at site. hence closed the ticket  // thiruppathy\\n                                                                                                                                                                                 2\n",
       "<br/> arunkumar.panchavarnam@aparinnosys.com as per the event video, cit  person working  while    disturbed the cheque dropbox  door  and there is no issue at the site hence the ticket was generated same has been closed //arun\\n                                                                                   2\n",
       "<br/> arunkumar.panchavarnam@aparinnosys.com as per the  tickets, two-way connected and confirmed custodian working. //arun\\n                                                                                                                                                                                           2\n",
       "<br/> srihari.kannan@aparinnosys.com as per event video cit person is working at site and operated chest door hence ticket is closed // srihari                                                                                                                                                                         2\n",
       "<br/> arunkumar.panchavarnam@aparinnosys.com as per stored video cit perworking  hence the ticket is  generated  same has been closed //arun\\n                                                                                                                                                                          2\n",
       "<br/> arunkumar.panchavarnam@aparinnosys.com as per the  tickets are confirmed with two-way custodian working and event video is not uploaded align an engineer soon to fix the issue at the earliest. //arun\\n                                                                                                         2\n",
       "<br/> arunkumar.panchavarnam@aparinnosys.com as per the ticket, custodian working  confirmed in two way  hence the ticket is  generated  same has been closed //arun\\n                                                                                                                                                  2\n",
       "<br/> deviprasad.krishnaiah@aparinnosys.com as per the event video cit person is working at the site //prasad\\n                                                                                                                                                                                                         2\n",
       "<br/> arunkumar.panchavarnam@aparinnosys.com as per the ticket  custodian working   confirmed with two way  hence the ticket is  generated  same has been closed //arun\\n                                                                                                                                               2\n",
       "<br/> raghunath.elangovan@aparinnosys.com as per the event video, the apar engineer are working on the site hence the ticket is closed.\\\\raghunath                                                                                                                                                                      2\n",
       "<br/> naveen.balasundaram@aparinnosys.com as per the event video, technician is working at the site and there is no issue on the site. hence the ticket is closed//naveen b                                                                                                                                             2\n",
       "<br/> arunkumar.panchavarnam@aparinnosys.com as per live streaming video custodian working  hence the ticket is  generated  same has been closed //arun\\n                                                                                                                                                               2\n",
       "<br/> arunkumar.panchavarnam@aparinnosys.com as per the  tickets, the custodian working confirmed two-way escalated to the technical team to fix the issue at the earliest. //arun\\n                                                                                                                                    2\n",
       "<br/> arunkumar.panchavarnam@aparinnosys.com as per the ticket    custodian working  confirmed with two way  hence the ticket is  generated  same has been closed //arun\\n                                                                                                                                              2\n",
       "<br/> raghunath.elangovan@aparinnosys.com as per the live streaming, the custodians are working on the site there is no issue and hence the ticket is closed.\\\\raghunath                                                                                                                                                2\n",
       "<br/> raghunath.elangovan@aparinnosys.com as per the event video, the cit person accessed the atm hood door and working on the site, and hence the ticket is closed.\\\\raghunath                                                                                                                                         2\n",
       "<br/> arunkumar.panchavarnam@aparinnosys.com  as per ticket technician  working at the site and there is no issue at the site //arun                                                                                                                                                                                    2\n",
       "<br/> arunkumar.panchavarnam@aparinnosys.com as per the ticket custodian working and confirmed with two way  hence the ticket was generated same has been   closed //arun \\n                                                                                                                                            2\n",
       "<br/> arunkumar.panchavarnam@aparinnosys.com as per stored video cit person working  hence the ticket is  generated  same has been closed //arun\\n                                                                                                                                                                      1\n",
       "<br/> raghunath.elangovan@aparinnosys.com as per the event video, the technician is working on the site,hence the ticket is closed.\\\\raghunath                                                                                                                                                                          1\n",
       "<br/> raghunath.elangovan@aparinnosys.com as per the event video, the electricians working on the site there is no issue in the atm ups hence the ticket is closed.\\\\raghunath                                                                                                                                          1\n",
       "<br/> arunkumar.panchavarnam@aparinnosys.com as per the event      video ac techncian working at the site   accessed the backroom door hence the ticket was generated same has been closed //arun\\n                                                                                                                     1\n",
       "<br/> raghunath.elangovan@aparinnosys.com as per the event video, the technician is working on the site, hence the ticket is closed.\\\\raghunath                                                                                                                                                                         1\n",
       "<br/> arunkumar.panchavarnam@aparinnosys.com as per the event      video  cit person  accessed the backroom door and there is no issue cit person working connfirmed with two way   hence the ticket was generated same has been closed //arun\\n                                                                        1\n",
       "<br/> arunkumar.panchavarnam@aparinnosys.com technician working at the site  hence the ticket is generated  same has been closed //arun                                                                                                                                                                                 1\n",
       "<br/> arunkumar.panchavarnam@aparinnosys.com as per the ticket    replacing the door lock  he  working    accessed the backroom door hence the ticket was generated same has been closed //arun\\n                                                                                                                       1\n",
       "<br/> arunkumar.panchavarnam@aparinnosys.com as per the event  video cit person    working  and disturbed the sensor   hence the ticket is  generated  same has been closed //arun\\n                                                                                                                                    1\n",
       "<br/> raghunath.elangovan@aparinnosys.com as per the event video, the cit person accessed the backroom door and working on the site, hence the ticket is closed.\\\\raghunath                                                                                                                                             1\n",
       "<br/> arunkumar.panchavarnam@aparinnosys.com as per event video cit person working hence the ticket is generated same has been closed//arun                                                                                                                                                                             1\n",
       "<br/> raghunath.elangovan@aparinnosys.com as per the event video, the cit person accessed the backroom door and a\\c technicians are working on the site and hence the ticket is closed.\\\\raghunath                                                                                                                      1\n",
       "<br/> raghunath.elangovan@aparinnosys.com as per the event video the electricians are working on the site there is no issue and hence the ticket is closed.\\\\raghunath                                                                                                                                                  1\n",
       "<br/> vijayadevi.veerasamy@aparinnosys.com as per the event video ac technician working on the site, hence ticket closed.//vijayadevi v\\n                                                                                                                                                                               1\n",
       "<br/> raghunath.elangovan@aparinnosys.com as per the event video and live streaming, the cit person is working on the site  there is no issue in the battery bank and hence the ticket is closed.\\\\raghunath                                                                                                            1\n",
       "<br/> arunkumar.panchavarnam@aparinnosys.com technician working attendance also marked //arun \\n                                                                                                                                                                                                                        1\n",
       "<br/> vijayadevi.veerasamy@aparinnosys.com as per the event video house keeping person working on the site and while cleaning glass wall gb sensor disturbed, hence ticket closed.//vijayadevi v\\n                                                                                                                      1\n",
       "<br/> arunkumar.panchavarnam@aparinnosys.com as discussed with the praful  custodian working and replaced new batteries //arun                                                                                                                                                                                          1\n",
       "<br/> arunkumar.panchavarnam@aparinnosys.com custodian working                                                                                                                                                                                                                                                          1\n",
       "<br/> arunkumar.panchavarnam@aparinnosys.com as per the ticket  technician is working  hence the ticket was generated same has been   closed //arun \\n                                                                                                                                                                  1\n",
       "<br/> arunkumar.panchavarnam@aparinnosys.com as per event  video custodian working  hence the ticket is  generated  same has been closed //arun\\nvv                                                                                                                                                                     1\n",
       "<br/> arunkumar.panchavarnam@aparinnosys.com technician working  attendance also marked //arun                                                                                                                                                                                                                          1\n",
       "<br/> vijayadevi.veerasamy@aparinnosys.com as per the event video house keeping person working on the site and disturbed the gb sensor, hence ticket closed.//vijayadevi v\\n                                                                                                                                            1\n",
       "<br/> arunkumar.panchavarnam@aparinnosys.com as per the live streaming  a/c technician working on the site and  there is no issue at the site  hence  the ticket is generated same has been  closed //arun\\n                                                                                                            1\n",
       "<br/> arunkumar.panchavarnam@aparinnosys.com as per live   streaming  custodian working  hence the ticket is  generated  same has been closed //arun\\n\\n\\n                                                                                                                                                              1\n",
       "<br/> arunkumar.panchavarnam@aparinnosys.com   as per the event video electrician working at the site and however we monitoring the site //arun                                                                                                                                                                         1\n",
       "<br/> aravind.hariharan@aparinnosys.com as per two way communication custodian was working at the site hence the ticket is closed//aravind                                                                                                                                                                              1\n",
       "<br/> raghunath.elangovan@aparinnosys.com as per the event video, the technician accessed the backroom door and working on the door lock and hence the ticket is closed.\\\\raghunath                                                                                                                                     1\n",
       "<br/> raghunath.elangovan@aparinnosys.com as per the event video and live streaming the cit person is working on the site there is no issue and hence the ticket is closed.\\\\raghunath                                                                                                                                  1\n",
       "<br/> vijayadevi.veerasamy@aparinnosys.com as per the event video cit person working on the site and hood door not locked, hence ticket closed.//vijayadevi v\\n                                                                                                                                                         1\n",
       "<br/> aravind.hariharan@aparinnosys.com as per event video technician was working at the site attendance is also marked hence the ticket is closed//aravind                                                                                                                                                             1\n",
       "<br/> aravind.hariharan@aparinnosys.com as per stored video technician is working at the site attendance is also marked hence the ticket is closed//aravind                                                                                                                                                             1\n",
       "<br/> arunkumar.panchavarnam@aparinnosys.com technician working attendance also marked a//run                                                                                                                                                                                                                           1\n",
       "<br/> arunkumar.panchavarnam@aparinnosys.com technician working at the sit and not marked the attendance  hence the ticket is generated same has been closed //arun                                                                                                                                                     1\n",
       "<br/> raghunath.elangovan@aparinnosys.com as per the event video, the custodians accessed the atm chest door and working on the site and, hence the ticket is closed.\\\\raghunath                                                                                                                                        1\n",
       "<br/> raghunath.elangovan@aparinnosys.com as per the event video and live streaming, the technician accessed the backroom door and working on the site, hence the ticket is closed.\\\\raghunath                                                                                                                          1\n",
       "<br/> vijayadevi.veerasamy@aparinnosys.com as per the event video house keeping person working on the site and operated the hood door with key, hence ticket closed.//vijayadevi v\\n                                                                                                                                    1\n",
       "<br/> arunkumar.panchavarnam@aparinnosys.com as per the  live streaming    technician working  confirmed with shameer  accessed the backroom door hence the ticket was generated same has been closed //arun\\n                                                                                                          1\n",
       "<br/> arunkumar.panchavarnam@aparinnosys.com technician working  and attendance also marked //arun                                                                                                                                                                                                                      1\n",
       "<br/> arunkumar.panchavarnam@aparinnosys.com as  per nitin confirmation     our engineer working at the site //arun                                                                                                                                                                                                     1\n",
       "<br/> arunkumar.panchavarnam@aparinnosys.com as per the event, video  engineer is working accessed the backroom door and confirmed with two way call  hence the ticket was generated same has been closed //arun\\n                                                                                                      1\n",
       "<br/> raghunath.elangovan@aparinnosys.com as per the confirmation from the bank person (anjani kumar) electrician is working on the site and hence the ticket is closed.\\\\raghunath                                                                                                                                     1\n",
       "<br/> raghunath.elangovan@aparinnosys.com as per the event video the custodian is working on the site there is no issue and hence the ticket is closed.\\\\raghunath                                                                                                                                                      1\n",
       "<br/> arunkumar.panchavarnam@aparinnosys.com technician working  the site attendance also marked //arun                                                                                                                                                                                                                 1\n",
       "<br/> arunkumar.panchavarnam@aparinnosys.com as per the ticket video custodian working  confirmed with two way  hence the ticket is  generated  same has been closed //arun\\n                                                                                                                                           1\n",
       "<br/> raghunath.elangovan@aparinnosys.com as per the event video, the cit person accessed the atm hood door, and a\\c technicians are working on the site and hence the ticket is closed.\\\\raghunath                                                                                                                     1\n",
       "<br/> arunkumar.panchavarnam@aparinnosys.com technician working attendance also marked aa//run                                                                                                                                                                                                                          1\n",
       "<br/> vijayadevi.veerasamy@aparinnosys.com as per the event video house keeping person working on the site and disturbed the gb while cleaning glass wall, hence ticket closed.//vijayadevi v\\n                                                                                                                         1\n",
       "<br/> raghunath.elangovan@aparinnosys.com as per the event video and live streaming, the cit person is working on the site there is no issue in the battery bank and hence the ticket is closed.\\\\raghunath                                                                                                             1\n",
       "<br/> manimekalai.ramakrishnan@aparinnosys.com working                                                                                                                                                                                                                                                                  1\n",
       "<br/> raghunath.elangovan@aparinnosys.com as per the event video and live streaming the electrician is working at the site and hence the ticket is closed.\\\\raghunath                                                                                                                                                   1\n",
       "<br/> arunkumar.panchavarnam@aparinnosys.com technician working b attendance also marked //arun                                                                                                                                                                                                                         1\n",
       "<br/> arunkumar.panchavarnam@aparinnosys.com as per the ticket  custodian working  confirmed with two way  hence the ticket is  generated  same has been closed //arun\\n                                                                                                                                                1\n",
       "<br/> arunkumar.panchavarnam@aparinnosys.com as per the event  video electrician working hence the ticket is  generated  same has been closed //arun\\n                                                                                                                                                                  1\n",
       "<br/> raghunath.elangovan@aparinnosys.com as per the event video the electrician is working on the site and hence the ticket is closed.\\\\raghunath                                                                                                                                                                      1\n",
       "<br/> vijayadevi.veerasamy@aparinnosys.com as per event video security guard has operated the backroom hence ticket closed.//vijayadevi v\\n\\nas per the event video cit person working on the site, hence ticket closed.//vijayadevi v\\n\\nas per the event video custodian working on the site, hence ticket clos       1\n",
       "<br/> raghunath.elangovan@aparinnosys.com as per the event video the a\\c technician is working on the site cit person is available at the site and hence the ticket is closed.\\\\raghunath                                                                                                                               1\n",
       "<br/> arunkumar.panchavarnam@aparinnosys.com as per event video cit person working on the site hence the ticket is generated same has been closed//arun                                                                                                                                                                 1\n",
       "<br/> arunkumar.panchavarnam@aparinnosys.com as per event video custodian  working on the site//arun                                                                                                                                                                                                                    1\n",
       "<br/> raghul.nagarajan@aparinnosys.com  as per the event video bank person operated the backroom door and they are working on the site hence the ticket closed//raghul\\n                                                                                                                                                1\n",
       "<br/> arunkumar.panchavarnam@aparinnosys.com as per the live streaming, there is no issue at the site and there is no issue with hood and confirmed with two way its a custodian working at the site however we monitoring the site hence the ticket is generated same has been closed //arun\\n                         1\n",
       "<br/> vijayadevi.veerasamy@aparinnosys.com as per the event video flm  person working on the site, hence ticket closed.//vijayadevi v\\n                                                                                                                                                                                 1\n",
       "<br/> priyanka.mani@aparinnosys.com as per the event video, the technician is working on the site security is available, hence the ticket is closed.\\\\priyanka                                                                                                                                                          1\n",
       "<br/> raghunath.elangovan@aparinnosys.com as per the event video the painter's are working on the site and hence the ticket is closed.\\\\raghunath                                                                                                                                                                       1\n",
       "<br/> raghunath.elangovan@aparinnosys.com as per event video the our technician is working at the site and hence the ticket is closed.\\\\raghunath                                                                                                                                                                       1\n",
       "<br/> arunkumar.panchavarnam@aparinnosys.com as per the event  video  electrician   accessed the backroom door  and working at the site hence the ticket was generated same has been closed //arun\\n                                                                                                                    1\n",
       "<br/> aravind.hariharan@aparinnosys.com working                                                                                                                                                                                                                                                                         1\n",
       "<br/> aravind.hariharan@aparinnosys.com as per two communication custodian was working at the site hence the ticket is closed//aravind                                                                                                                                                                                  1\n",
       "<br/> raghunath.elangovan@aparinnosys.com as per the event video, the custodians accessed the atm chest door and working on the site, hence the ticket is closed.\\\\raghunath                                                                                                                                            1\n",
       "<br/> naveen.balasundaram@aparinnosys.com as per the event video, network engineer is working at the site and there is no issue on the site. hence the ticket is closed//naveen b                                                                                                                                       1\n",
       "<br/> arunkumar.panchavarnam@aparinnosys.com as per event  video custodian working  hence the ticket is  generated  same has been closed //arun\\nv                                                                                                                                                                      1\n",
       "<br/> raghunath.elangovan@aparinnosys.com as per the event video the painter's are working on the site issue escalated to ncr team and hence the ticket is closed.\\\\raghunath                                                                                                                                           1\n",
       "<br/> monica.suresh@aparinnosys.com as per the event video, the custodian is working at the site, hence the ticket is closed. //monica                                                                                                                                                                                  1\n",
       "<br/> raghunath.elangovan@aparinnosys.com as per the event video, the cit person is working on the site hence the ticket is closed.\\\\raghunath                                                                                                                                                                          1\n",
       "<br/> raghunath.elangovan@aparinnosys.com as per the event video, the cit person accessed the atm hood door and working on the site and, hence the ticket is closed.\\\\raghunath                                                                                                                                         1\n",
       "<br/> raghunath.elangovan@aparinnosys.com as per the event video and live streaming the cit persons are working on the site there is no issue and hence the ticket is closed.\\\\raghunath                                                                                                                                1\n",
       "<br/> arunkumar.panchavarnam@aparinnosys.com  as per ticket technician working  at the site //arun                                                                                                                                                                                                                      1\n",
       "<br/> raghunath.elangovan@aparinnosys.com as per the event video, the housekeeping person accessed the backroom door, and cit person is working on the site and hence the ticket is closed.\\\\raghunath                                                                                                                  1\n",
       "<br/> raghunath.elangovan@aparinnosys.com as per the event video, the cit person accessed the atm hood door and working on the site, hence the ticket is closed.\\\\raghunath                                                                                                                                             1\n",
       "<br/> vijayadevi.veerasamy@aparinnosys.com as per the event video technician working on the site, hence ticket closed.//vijayadevi v\\n                                                                                                                                                                                  1\n",
       "<br/> vijayadevi.veerasamy@aparinnosys.com as per the live video cit person working on the site, hence ticket closed.//vijayadevi v\\n                                                                                                                                                                                   1\n",
       "<br/> raghunath.elangovan@aparinnosys.com as per the stored video, the apar engineers is working on the site attendance is marked, hence the ticket is closed.\\\\raghunath                                                                                                                                               1\n",
       "<br/> arunkumar.panchavarnam@aparinnosys.com technician working   accessed the cheque drop box door  sensor attendance also marked r  //arun                                                                                                                                                                            1\n",
       "<br/> raghunath.elangovan@aparinnosys.com as per the event video the cit person is working on the site and hence the ticket is closed.\\\\raghunath                                                                                                                                                                       1\n",
       "<br/> arunkumar.panchavarnam@aparinnosys.com technician working attendance also marled //arun                                                                                                                                                                                                                           1\n",
       "<br/> raghunath.elangovan@aparinnosys.com as per the live streaming the custodians are working on the site there is no issue and hence the ticket is closed.\\\\raghunath                                                                                                                                                 1\n",
       "<br/> arunkumar.panchavarnam@aparinnosys.com as per the event  video  a/c technician working  accessed the backroom door hence the ticket was generated same has been closed //arun\\n                                                                                                                                   1\n",
       "<br/> arunkumar.panchavarnam@aparinnosys.com technician  working and attendance also marked //arun                                                                                                                                                                                                                      1\n",
       "<br/> arunkumar.panchavarnam@aparinnosys.com as per event  video ac technician  working  hence the ticket is  generated  same has been closed //arun\\n                                                                                                                                                                  1\n",
       "<br/> raghunath.elangovan@aparinnosys.com as per the event video housekeeping person is working on the site there is no issue and hence the ticket is closed.\\\\raghunath                                                                                                                                                1\n",
       "<br/> raghunath.elangovan@aparinnosys.com as per the event video the apar engineer mukesh is working on the site there is no issue and hence the ticket is closed.\\\\raghunath                                                                                                                                           1\n",
       "<br/> raghunath.elangovan@aparinnosys.com as per the event video the cit person is working on the site there is no issue and hence the ticket is closed.\\\\raghunath                                                                                                                                                     1\n",
       "<br/> arunkumar.panchavarnam@aparinnosys.com techncian working and attendance not marked  confirmed with two way //arun                                                                                                                                                                                                 1\n",
       "<br/> vijayadevi.veerasamy@aparinnosys.com as per the event video custodian working on the site and disturbed the gb sensor, hence ticket closed.//vijayadevi v\\n                                                                                                                                                       1\n",
       "<br/> raghunath.elangovan@aparinnosys.com as per the event video, the apar engineer are working on the site attendance is marked, hence the ticket is closed.\\\\raghunath                                                                                                                                                1\n",
       "<br/> arunkumar.panchavarnam@aparinnosys.com as per the event      video  electrician working at the site and he    accessed the backroom door hence the ticket was generated same has been closed //arun\\n                                                                                                             1\n",
       "<br/> vijayadevi.veerasamy@aparinnosys.com as per the event video atm technician working on the site, hence ticket closed.//vijayadevi v\\n                                                                                                                                                                              1\n",
       "<br/> raghunath.elangovan@aparinnosys.com as per the event video, security guard accessed the backroom door and the housekeeping person is working on the site, hence the ticket is closed.\\\\raghunath                                                                                                                  1\n",
       "<br/> arunkumar.panchavarnam@aparinnosys.com as per the event  video a-c  technician  working  hence the ticket is  generated  same has been closed //arun\\n                                                                                                                                                            1\n",
       "<br/> arunkumar.panchavarnam@aparinnosys.com as per the event      video  ups engineer working  accessed the backroom door hence the ticket was generated same has been closed //arun\\n                                                                                                                                 1\n",
       "<br/> arunkumar.panchavarnam@aparinnosys.com as per the live streaming, there is no issue at the site and there is no issue with chest   and confirmed with two way its a custodian working at the site however we monitoring the site hence the ticket is generated same has been closed //arun\\n                      1\n",
       "<br/> raghunath.elangovan@aparinnosys.com as per the event video the custodians are working on the site there is no issue and hence the ticket is closed.\\\\raghunath                                                                                                                                                    1\n",
       "<br/> arunkumar.panchavarnam@aparinnosys.com techncian working //arun                                                                                                                                                                                                                                                   1\n",
       "<br/> arunkumar.panchavarnam@aparinnosys.com as per the event video electrician working at the site and there is no issue  at the site  hence the ticket is  generated same has  been closed //arun                                                                                                                     1\n",
       "<br/> vijayadevi.veerasamy@aparinnosys.com as per the event video and live streaming atm technician working on the site fire detected due to dust from lobby, hence ticket closed.//vijayadevi v\\n                                                                                                                      1\n",
       "<br/> arunkumar.panchavarnam@aparinnosys.com as per ticket technician working at the site hence the ticket was generated same has been   closed //arun \\n                                                                                                                                                               1\n",
       "<br/> raghunath.elangovan@aparinnosys.com as per the stored video, technician is working at the site and the attendance is marked. hence the ticket  is closed.\\\\raghunath                                                                                                                                              1\n",
       "Name: Remarks, dtype: int64"
      ]
     },
     "execution_count": 36,
     "metadata": {},
     "output_type": "execute_result"
    }
   ],
   "source": [
    "merge55['Remarks'].value_counts()"
   ]
  },
  {
   "cell_type": "code",
   "execution_count": 18,
   "id": "ba8a9d82",
   "metadata": {},
   "outputs": [
    {
     "data": {
      "text/plain": [
       "(1141, 14)"
      ]
     },
     "execution_count": 18,
     "metadata": {},
     "output_type": "execute_result"
    }
   ],
   "source": [
    "merge5['Remarks']=merge5['Remarks'].str.lower()\n",
    "merge55=merge5[merge5['Remarks'].str.contains('working')]\n",
    "merge5drop=merge55[merge55['Remarks'].str.contains('closed')]\n",
    "merge5drop.shape"
   ]
  },
  {
   "cell_type": "code",
   "execution_count": 20,
   "id": "22a52d36",
   "metadata": {},
   "outputs": [
    {
     "data": {
      "text/plain": [
       "(5315, 14)"
      ]
     },
     "execution_count": 20,
     "metadata": {},
     "output_type": "execute_result"
    }
   ],
   "source": [
    "pd.set_option('display.max_rows',None)\n",
    "Events=merge55.drop(merge5drop.index)\n",
    "Events.shape"
   ]
  },
  {
   "cell_type": "code",
   "execution_count": 21,
   "id": "c8e7bc95",
   "metadata": {},
   "outputs": [
    {
     "data": {
      "text/html": [
       "<div>\n",
       "<style scoped>\n",
       "    .dataframe tbody tr th:only-of-type {\n",
       "        vertical-align: middle;\n",
       "    }\n",
       "\n",
       "    .dataframe tbody tr th {\n",
       "        vertical-align: top;\n",
       "    }\n",
       "\n",
       "    .dataframe thead th {\n",
       "        text-align: right;\n",
       "    }\n",
       "</style>\n",
       "<table border=\"1\" class=\"dataframe\">\n",
       "  <thead>\n",
       "    <tr style=\"text-align: right;\">\n",
       "      <th></th>\n",
       "      <th>EventId</th>\n",
       "      <th>McuId</th>\n",
       "      <th>AtTime</th>\n",
       "      <th>Msg</th>\n",
       "      <th>EventType</th>\n",
       "      <th>OpenedOn</th>\n",
       "      <th>ClosedBy</th>\n",
       "      <th>ClosedOn</th>\n",
       "      <th>qStatus</th>\n",
       "      <th>s_Id</th>\n",
       "      <th>s_Name</th>\n",
       "      <th>UpdatedBy</th>\n",
       "      <th>UpdatedON</th>\n",
       "      <th>Remarks</th>\n",
       "    </tr>\n",
       "  </thead>\n",
       "  <tbody>\n",
       "    <tr>\n",
       "      <th>4</th>\n",
       "      <td>527157</td>\n",
       "      <td>111851</td>\n",
       "      <td>2021-03-01 18:26:05</td>\n",
       "      <td>ATM-1 Chest Door operated without authorization</td>\n",
       "      <td>Critical</td>\n",
       "      <td>2021-03-01 18:25:42.863</td>\n",
       "      <td>arunkumar.panchavarnam@aparinnosys.com</td>\n",
       "      <td>2021-03-01 18:36:43.483</td>\n",
       "      <td>true</td>\n",
       "      <td>11241</td>\n",
       "      <td>ID049711</td>\n",
       "      <td>arunkumar.panchavarnam@aparinnosys.com</td>\n",
       "      <td>2021-03-01 18:28:08.620</td>\n",
       "      <td>&lt;br/&gt; arunkumar.panchavarnam@aparinnosys.com w...</td>\n",
       "    </tr>\n",
       "    <tr>\n",
       "      <th>10</th>\n",
       "      <td>537608</td>\n",
       "      <td>111851</td>\n",
       "      <td>2021-03-02 08:23:36</td>\n",
       "      <td>Panic Button Pressed</td>\n",
       "      <td>SOS</td>\n",
       "      <td>2021-03-02 08:23:35.763</td>\n",
       "      <td>vijayadevi.veerasamy@aparinnosys.com</td>\n",
       "      <td>2021-03-02 08:35:12.450</td>\n",
       "      <td>true</td>\n",
       "      <td>11241</td>\n",
       "      <td>ID049711</td>\n",
       "      <td>vijayadevi.veerasamy@aparinnosys.com</td>\n",
       "      <td>2021-03-02 08:29:34.067</td>\n",
       "      <td>&lt;br/&gt; vijayadevi.veerasamy@aparinnosys.com wor...</td>\n",
       "    </tr>\n",
       "    <tr>\n",
       "      <th>17</th>\n",
       "      <td>540062</td>\n",
       "      <td>111851</td>\n",
       "      <td>2021-03-04 08:24:21</td>\n",
       "      <td>Backroom door operated without authorization</td>\n",
       "      <td>Critical</td>\n",
       "      <td>2021-03-04 08:24:16.667</td>\n",
       "      <td>raghunath.elangovan@aparinnosys.com</td>\n",
       "      <td>2021-03-04 08:29:08.730</td>\n",
       "      <td>true</td>\n",
       "      <td>11241</td>\n",
       "      <td>ID049711</td>\n",
       "      <td>raghunath.elangovan@aparinnosys.com</td>\n",
       "      <td>2021-03-04 08:27:55.840</td>\n",
       "      <td>&lt;br/&gt; raghunath.elangovan@aparinnosys.com working</td>\n",
       "    </tr>\n",
       "    <tr>\n",
       "      <th>22</th>\n",
       "      <td>541282</td>\n",
       "      <td>111851</td>\n",
       "      <td>2021-03-05 08:50:20</td>\n",
       "      <td>Backroom door operated without authorization</td>\n",
       "      <td>Critical</td>\n",
       "      <td>2021-03-05 08:50:10.143</td>\n",
       "      <td>raghunath.elangovan@aparinnosys.com</td>\n",
       "      <td>2021-03-05 09:07:58.067</td>\n",
       "      <td>true</td>\n",
       "      <td>11241</td>\n",
       "      <td>ID049711</td>\n",
       "      <td>raghunath.elangovan@aparinnosys.com</td>\n",
       "      <td>2021-03-05 09:06:28.170</td>\n",
       "      <td>&lt;br/&gt; raghunath.elangovan@aparinnosys.com working</td>\n",
       "    </tr>\n",
       "    <tr>\n",
       "      <th>27</th>\n",
       "      <td>553454</td>\n",
       "      <td>111851</td>\n",
       "      <td>2021-03-06 21:44:27</td>\n",
       "      <td>Backroom door operated without authorization</td>\n",
       "      <td>Critical</td>\n",
       "      <td>2021-03-06 21:44:11.993</td>\n",
       "      <td>arunkumar.panchavarnam@aparinnosys.com</td>\n",
       "      <td>2021-03-06 21:59:54.883</td>\n",
       "      <td>true</td>\n",
       "      <td>11241</td>\n",
       "      <td>ID049711</td>\n",
       "      <td>arunkumar.panchavarnam@aparinnosys.com</td>\n",
       "      <td>2021-03-06 21:49:38.277</td>\n",
       "      <td>&lt;br/&gt; arunkumar.panchavarnam@aparinnosys.com w...</td>\n",
       "    </tr>\n",
       "  </tbody>\n",
       "</table>\n",
       "</div>"
      ],
      "text/plain": [
       "    EventId   McuId              AtTime  \\\n",
       "4    527157  111851 2021-03-01 18:26:05   \n",
       "10   537608  111851 2021-03-02 08:23:36   \n",
       "17   540062  111851 2021-03-04 08:24:21   \n",
       "22   541282  111851 2021-03-05 08:50:20   \n",
       "27   553454  111851 2021-03-06 21:44:27   \n",
       "\n",
       "                                                Msg EventType  \\\n",
       "4   ATM-1 Chest Door operated without authorization  Critical   \n",
       "10                             Panic Button Pressed       SOS   \n",
       "17     Backroom door operated without authorization  Critical   \n",
       "22     Backroom door operated without authorization  Critical   \n",
       "27     Backroom door operated without authorization  Critical   \n",
       "\n",
       "                  OpenedOn                                ClosedBy  \\\n",
       "4  2021-03-01 18:25:42.863  arunkumar.panchavarnam@aparinnosys.com   \n",
       "10 2021-03-02 08:23:35.763    vijayadevi.veerasamy@aparinnosys.com   \n",
       "17 2021-03-04 08:24:16.667     raghunath.elangovan@aparinnosys.com   \n",
       "22 2021-03-05 08:50:10.143     raghunath.elangovan@aparinnosys.com   \n",
       "27 2021-03-06 21:44:11.993  arunkumar.panchavarnam@aparinnosys.com   \n",
       "\n",
       "                  ClosedOn qStatus   s_Id    s_Name  \\\n",
       "4  2021-03-01 18:36:43.483    true  11241  ID049711   \n",
       "10 2021-03-02 08:35:12.450    true  11241  ID049711   \n",
       "17 2021-03-04 08:29:08.730    true  11241  ID049711   \n",
       "22 2021-03-05 09:07:58.067    true  11241  ID049711   \n",
       "27 2021-03-06 21:59:54.883    true  11241  ID049711   \n",
       "\n",
       "                                 UpdatedBy               UpdatedON  \\\n",
       "4   arunkumar.panchavarnam@aparinnosys.com 2021-03-01 18:28:08.620   \n",
       "10    vijayadevi.veerasamy@aparinnosys.com 2021-03-02 08:29:34.067   \n",
       "17     raghunath.elangovan@aparinnosys.com 2021-03-04 08:27:55.840   \n",
       "22     raghunath.elangovan@aparinnosys.com 2021-03-05 09:06:28.170   \n",
       "27  arunkumar.panchavarnam@aparinnosys.com 2021-03-06 21:49:38.277   \n",
       "\n",
       "                                              Remarks  \n",
       "4   <br/> arunkumar.panchavarnam@aparinnosys.com w...  \n",
       "10  <br/> vijayadevi.veerasamy@aparinnosys.com wor...  \n",
       "17  <br/> raghunath.elangovan@aparinnosys.com working  \n",
       "22  <br/> raghunath.elangovan@aparinnosys.com working  \n",
       "27  <br/> arunkumar.panchavarnam@aparinnosys.com w...  "
      ]
     },
     "execution_count": 21,
     "metadata": {},
     "output_type": "execute_result"
    }
   ],
   "source": [
    "Events.head()"
   ]
  },
  {
   "cell_type": "code",
   "execution_count": 22,
   "id": "49e16aa0",
   "metadata": {},
   "outputs": [],
   "source": [
    "Events['TicketAge']=Events['ClosedOn']-Events['OpenedOn']\n",
    "Events['AcknowledgeAge']=Events['UpdatedON']-Events['OpenedOn']\n",
    "Events['TicketAge']=Events['TicketAge'].astype('timedelta64[m]')\n",
    "Events['AcknowledgeAge']=Events['AcknowledgeAge'].astype('timedelta64[m]')"
   ]
  },
  {
   "cell_type": "code",
   "execution_count": 24,
   "id": "82caf041",
   "metadata": {},
   "outputs": [],
   "source": [
    "import numpy as np"
   ]
  },
  {
   "cell_type": "code",
   "execution_count": 25,
   "id": "2dcc7ff6",
   "metadata": {},
   "outputs": [
    {
     "data": {
      "text/html": [
       "<div>\n",
       "<style scoped>\n",
       "    .dataframe tbody tr th:only-of-type {\n",
       "        vertical-align: middle;\n",
       "    }\n",
       "\n",
       "    .dataframe tbody tr th {\n",
       "        vertical-align: top;\n",
       "    }\n",
       "\n",
       "    .dataframe thead th {\n",
       "        text-align: right;\n",
       "    }\n",
       "</style>\n",
       "<table border=\"1\" class=\"dataframe\">\n",
       "  <thead>\n",
       "    <tr style=\"text-align: right;\">\n",
       "      <th></th>\n",
       "      <th>EventId</th>\n",
       "      <th>McuId</th>\n",
       "      <th>AtTime</th>\n",
       "      <th>Msg</th>\n",
       "      <th>EventType</th>\n",
       "      <th>OpenedOn</th>\n",
       "      <th>ClosedBy</th>\n",
       "      <th>ClosedOn</th>\n",
       "      <th>qStatus</th>\n",
       "      <th>s_Id</th>\n",
       "      <th>s_Name</th>\n",
       "      <th>UpdatedBy</th>\n",
       "      <th>UpdatedON</th>\n",
       "      <th>Remarks</th>\n",
       "      <th>TicketAge</th>\n",
       "      <th>AcknowledgeAge</th>\n",
       "      <th>Penalty</th>\n",
       "    </tr>\n",
       "  </thead>\n",
       "  <tbody>\n",
       "    <tr>\n",
       "      <th>4</th>\n",
       "      <td>527157</td>\n",
       "      <td>111851</td>\n",
       "      <td>2021-03-01 18:26:05</td>\n",
       "      <td>ATM-1 Chest Door operated without authorization</td>\n",
       "      <td>Critical</td>\n",
       "      <td>2021-03-01 18:25:42.863</td>\n",
       "      <td>arunkumar.panchavarnam@aparinnosys.com</td>\n",
       "      <td>2021-03-01 18:36:43.483</td>\n",
       "      <td>true</td>\n",
       "      <td>11241</td>\n",
       "      <td>ID049711</td>\n",
       "      <td>arunkumar.panchavarnam@aparinnosys.com</td>\n",
       "      <td>2021-03-01 18:28:08.620</td>\n",
       "      <td>&lt;br/&gt; arunkumar.panchavarnam@aparinnosys.com w...</td>\n",
       "      <td>11.0</td>\n",
       "      <td>2.0</td>\n",
       "      <td>0</td>\n",
       "    </tr>\n",
       "    <tr>\n",
       "      <th>10</th>\n",
       "      <td>537608</td>\n",
       "      <td>111851</td>\n",
       "      <td>2021-03-02 08:23:36</td>\n",
       "      <td>Panic Button Pressed</td>\n",
       "      <td>SOS</td>\n",
       "      <td>2021-03-02 08:23:35.763</td>\n",
       "      <td>vijayadevi.veerasamy@aparinnosys.com</td>\n",
       "      <td>2021-03-02 08:35:12.450</td>\n",
       "      <td>true</td>\n",
       "      <td>11241</td>\n",
       "      <td>ID049711</td>\n",
       "      <td>vijayadevi.veerasamy@aparinnosys.com</td>\n",
       "      <td>2021-03-02 08:29:34.067</td>\n",
       "      <td>&lt;br/&gt; vijayadevi.veerasamy@aparinnosys.com wor...</td>\n",
       "      <td>11.0</td>\n",
       "      <td>5.0</td>\n",
       "      <td>0</td>\n",
       "    </tr>\n",
       "    <tr>\n",
       "      <th>17</th>\n",
       "      <td>540062</td>\n",
       "      <td>111851</td>\n",
       "      <td>2021-03-04 08:24:21</td>\n",
       "      <td>Backroom door operated without authorization</td>\n",
       "      <td>Critical</td>\n",
       "      <td>2021-03-04 08:24:16.667</td>\n",
       "      <td>raghunath.elangovan@aparinnosys.com</td>\n",
       "      <td>2021-03-04 08:29:08.730</td>\n",
       "      <td>true</td>\n",
       "      <td>11241</td>\n",
       "      <td>ID049711</td>\n",
       "      <td>raghunath.elangovan@aparinnosys.com</td>\n",
       "      <td>2021-03-04 08:27:55.840</td>\n",
       "      <td>&lt;br/&gt; raghunath.elangovan@aparinnosys.com working</td>\n",
       "      <td>4.0</td>\n",
       "      <td>3.0</td>\n",
       "      <td>0</td>\n",
       "    </tr>\n",
       "    <tr>\n",
       "      <th>22</th>\n",
       "      <td>541282</td>\n",
       "      <td>111851</td>\n",
       "      <td>2021-03-05 08:50:20</td>\n",
       "      <td>Backroom door operated without authorization</td>\n",
       "      <td>Critical</td>\n",
       "      <td>2021-03-05 08:50:10.143</td>\n",
       "      <td>raghunath.elangovan@aparinnosys.com</td>\n",
       "      <td>2021-03-05 09:07:58.067</td>\n",
       "      <td>true</td>\n",
       "      <td>11241</td>\n",
       "      <td>ID049711</td>\n",
       "      <td>raghunath.elangovan@aparinnosys.com</td>\n",
       "      <td>2021-03-05 09:06:28.170</td>\n",
       "      <td>&lt;br/&gt; raghunath.elangovan@aparinnosys.com working</td>\n",
       "      <td>17.0</td>\n",
       "      <td>16.0</td>\n",
       "      <td>Penalty Applicable</td>\n",
       "    </tr>\n",
       "    <tr>\n",
       "      <th>27</th>\n",
       "      <td>553454</td>\n",
       "      <td>111851</td>\n",
       "      <td>2021-03-06 21:44:27</td>\n",
       "      <td>Backroom door operated without authorization</td>\n",
       "      <td>Critical</td>\n",
       "      <td>2021-03-06 21:44:11.993</td>\n",
       "      <td>arunkumar.panchavarnam@aparinnosys.com</td>\n",
       "      <td>2021-03-06 21:59:54.883</td>\n",
       "      <td>true</td>\n",
       "      <td>11241</td>\n",
       "      <td>ID049711</td>\n",
       "      <td>arunkumar.panchavarnam@aparinnosys.com</td>\n",
       "      <td>2021-03-06 21:49:38.277</td>\n",
       "      <td>&lt;br/&gt; arunkumar.panchavarnam@aparinnosys.com w...</td>\n",
       "      <td>15.0</td>\n",
       "      <td>5.0</td>\n",
       "      <td>0</td>\n",
       "    </tr>\n",
       "  </tbody>\n",
       "</table>\n",
       "</div>"
      ],
      "text/plain": [
       "    EventId   McuId              AtTime  \\\n",
       "4    527157  111851 2021-03-01 18:26:05   \n",
       "10   537608  111851 2021-03-02 08:23:36   \n",
       "17   540062  111851 2021-03-04 08:24:21   \n",
       "22   541282  111851 2021-03-05 08:50:20   \n",
       "27   553454  111851 2021-03-06 21:44:27   \n",
       "\n",
       "                                                Msg EventType  \\\n",
       "4   ATM-1 Chest Door operated without authorization  Critical   \n",
       "10                             Panic Button Pressed       SOS   \n",
       "17     Backroom door operated without authorization  Critical   \n",
       "22     Backroom door operated without authorization  Critical   \n",
       "27     Backroom door operated without authorization  Critical   \n",
       "\n",
       "                  OpenedOn                                ClosedBy  \\\n",
       "4  2021-03-01 18:25:42.863  arunkumar.panchavarnam@aparinnosys.com   \n",
       "10 2021-03-02 08:23:35.763    vijayadevi.veerasamy@aparinnosys.com   \n",
       "17 2021-03-04 08:24:16.667     raghunath.elangovan@aparinnosys.com   \n",
       "22 2021-03-05 08:50:10.143     raghunath.elangovan@aparinnosys.com   \n",
       "27 2021-03-06 21:44:11.993  arunkumar.panchavarnam@aparinnosys.com   \n",
       "\n",
       "                  ClosedOn qStatus   s_Id    s_Name  \\\n",
       "4  2021-03-01 18:36:43.483    true  11241  ID049711   \n",
       "10 2021-03-02 08:35:12.450    true  11241  ID049711   \n",
       "17 2021-03-04 08:29:08.730    true  11241  ID049711   \n",
       "22 2021-03-05 09:07:58.067    true  11241  ID049711   \n",
       "27 2021-03-06 21:59:54.883    true  11241  ID049711   \n",
       "\n",
       "                                 UpdatedBy               UpdatedON  \\\n",
       "4   arunkumar.panchavarnam@aparinnosys.com 2021-03-01 18:28:08.620   \n",
       "10    vijayadevi.veerasamy@aparinnosys.com 2021-03-02 08:29:34.067   \n",
       "17     raghunath.elangovan@aparinnosys.com 2021-03-04 08:27:55.840   \n",
       "22     raghunath.elangovan@aparinnosys.com 2021-03-05 09:06:28.170   \n",
       "27  arunkumar.panchavarnam@aparinnosys.com 2021-03-06 21:49:38.277   \n",
       "\n",
       "                                              Remarks  TicketAge  \\\n",
       "4   <br/> arunkumar.panchavarnam@aparinnosys.com w...       11.0   \n",
       "10  <br/> vijayadevi.veerasamy@aparinnosys.com wor...       11.0   \n",
       "17  <br/> raghunath.elangovan@aparinnosys.com working        4.0   \n",
       "22  <br/> raghunath.elangovan@aparinnosys.com working       17.0   \n",
       "27  <br/> arunkumar.panchavarnam@aparinnosys.com w...       15.0   \n",
       "\n",
       "    AcknowledgeAge             Penalty  \n",
       "4              2.0                   0  \n",
       "10             5.0                   0  \n",
       "17             3.0                   0  \n",
       "22            16.0  Penalty Applicable  \n",
       "27             5.0                   0  "
      ]
     },
     "execution_count": 25,
     "metadata": {},
     "output_type": "execute_result"
    }
   ],
   "source": [
    "conditions = [\n",
    "    (Events['EventType'] == 'SOS') & (Events['TicketAge'] > 30),\n",
    "    (Events['EventType'] == 'Critical') & (Events['TicketAge'] > 60),\n",
    "    (Events['EventType'] == 'SOS') & (Events['AcknowledgeAge'] > 5),\n",
    "    (Events['EventType'] == 'Critical') & (Events['AcknowledgeAge'] > 10)]\n",
    "\n",
    "# create a list of the values we want to assign for each condition\n",
    "values = ['Penalty Applicable','Penalty Applicable','Penalty Applicable','Penalty Applicable']\n",
    "\n",
    "# create a new column and use np.select to assign values to it using our lists as arguments\n",
    "Events['Penalty'] = np.select(conditions, values)\n",
    "\n",
    "# display updated DataFrame\n",
    "Events.head()"
   ]
  },
  {
   "cell_type": "code",
   "execution_count": 26,
   "id": "abbcc4fd",
   "metadata": {},
   "outputs": [
    {
     "data": {
      "text/plain": [
       "0                     4332\n",
       "Penalty Applicable     983\n",
       "Name: Penalty, dtype: int64"
      ]
     },
     "execution_count": 26,
     "metadata": {},
     "output_type": "execute_result"
    }
   ],
   "source": [
    "Events['Penalty'].value_counts()"
   ]
  },
  {
   "cell_type": "code",
   "execution_count": 27,
   "id": "a031cdd4",
   "metadata": {},
   "outputs": [],
   "source": [
    "sos=Events[(Events['EventType']=='SOS') & (Events['Penalty']=='Penalty Applicable')]"
   ]
  },
  {
   "cell_type": "code",
   "execution_count": 28,
   "id": "ccf4b161",
   "metadata": {},
   "outputs": [
    {
     "data": {
      "text/plain": [
       "(208, 17)"
      ]
     },
     "execution_count": 28,
     "metadata": {},
     "output_type": "execute_result"
    }
   ],
   "source": [
    "sos.shape"
   ]
  },
  {
   "cell_type": "code",
   "execution_count": 29,
   "id": "dcbace0d",
   "metadata": {},
   "outputs": [],
   "source": [
    "penalty=Events[Events['Penalty']=='Penalty Applicable']"
   ]
  },
  {
   "cell_type": "code",
   "execution_count": 30,
   "id": "c7eb015e",
   "metadata": {},
   "outputs": [
    {
     "data": {
      "text/plain": [
       "(983, 17)"
      ]
     },
     "execution_count": 30,
     "metadata": {},
     "output_type": "execute_result"
    }
   ],
   "source": [
    "penalty.shape"
   ]
  },
  {
   "cell_type": "code",
   "execution_count": 33,
   "id": "a8c9ddec",
   "metadata": {},
   "outputs": [],
   "source": [
    "penalty.to_csv('IDBIMarchpenalty.csv',)"
   ]
  },
  {
   "cell_type": "code",
   "execution_count": null,
   "id": "7783042d",
   "metadata": {},
   "outputs": [],
   "source": []
  }
 ],
 "metadata": {
  "kernelspec": {
   "display_name": "Python 3",
   "language": "python",
   "name": "python3"
  },
  "language_info": {
   "codemirror_mode": {
    "name": "ipython",
    "version": 3
   },
   "file_extension": ".py",
   "mimetype": "text/x-python",
   "name": "python",
   "nbconvert_exporter": "python",
   "pygments_lexer": "ipython3",
   "version": "3.8.8"
  }
 },
 "nbformat": 4,
 "nbformat_minor": 5
}
