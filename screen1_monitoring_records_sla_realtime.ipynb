{
 "cells": [
  {
   "cell_type": "code",
   "execution_count": 5,
   "id": "50a00283",
   "metadata": {},
   "outputs": [
    {
     "ename": "SyntaxError",
     "evalue": "non-default argument follows default argument (<ipython-input-5-b00a38375a1a>, line 1)",
     "output_type": "error",
     "traceback": [
      "\u001b[1;36m  File \u001b[1;32m\"<ipython-input-5-b00a38375a1a>\"\u001b[1;36m, line \u001b[1;32m1\u001b[0m\n\u001b[1;33m    def events_records(tablename='RealTimeSlaViolatedTicket',subfilter,Bank=['All'],Duration=2):\u001b[0m\n\u001b[1;37m                       ^\u001b[0m\n\u001b[1;31mSyntaxError\u001b[0m\u001b[1;31m:\u001b[0m non-default argument follows default argument\n"
     ]
    }
   ],
   "source": [
    "def events_records(tablename,subfilter,Bank=['All'],Duration=2):\n",
    "    import pymssql\n",
    "    import pandas as pd\n",
    "    import json\n",
    "    conn = pymssql.connect(server='188.42.97.40', user='aaum_db_usr', password='nfm!DBj!Pu#hZmgThxAoZe$E', database='AAUM_Analytics_DB')  \n",
    "    cursor = conn.cursor()\n",
    "    if Bank==['All']:\n",
    "        if subfilter=='All':\n",
    "            records=pd.read_sql(\"SELECT BankName,SiteName,McuId,EventId,EventType,Msg,OpenedOn,AgeInMinutes,TicketsRequiredAction FROM {} \".format(tablename),conn)\n",
    "        elif subfilter=='SOS Ack':\n",
    "            records=pd.read_sql(\"SELECT BankName,SiteName,McuId,EventId,EventType,Msg,OpenedOn,AgeInMinutes,TicketsRequiredAction FROM {} WHERE EventType='SOS' AND TicketsRequiredAction='TicketToAck' \".format(tablename),conn)\n",
    "        elif subfilter=='SOS Close':\n",
    "            records=pd.read_sql(\"SELECT BankName,SiteName,McuId,EventId,EventType,Msg,OpenedOn,AgeInMinutes,TicketsRequiredAction FROM {} WHERE EventType='SOS' AND TicketsRequiredAction='TicketToClose' \".format(tablename),conn)\n",
    "        elif subfilter=='Critcial Ack':\n",
    "            records=pd.read_sql(\"SELECT BankName,SiteName,McuId,EventId,EventType,Msg,OpenedOn,AgeInMinutes,TicketsRequiredAction FROM {} WHERE EventType='Critical' AND TicketsRequiredAction='TicketToAck' \".format(tablename),conn)\n",
    "        elif subfilter=='Critcial Close':\n",
    "            records=pd.read_sql(\"SELECT BankName,SiteName,McuId,EventId,EventType,Msg,OpenedOn,AgeInMinutes,TicketsRequiredAction FROM {} WHERE EventType='Critical' AND TicketsRequiredAction='TicketToClose' \".format(tablename),conn)\n",
    "        \n",
    "    else:\n",
    "        if len(Bank)==1:\n",
    "            if subfilter=='All':\n",
    "                records=pd.read_sql(\"SELECT BankName,SiteName,McuId,EventId,EventType,Msg,OpenedOn,AgeInMinutes,TicketsRequiredAction FROM {} WHERE BankName='{}' \".format(tablename,Bank[0]),conn)\n",
    "            elif subfilter=='SOS Ack':\n",
    "                records=pd.read_sql(\"SELECT BankName,SiteName,McuId,EventId,EventType,Msg,OpenedOn,AgeInMinutes,TicketsRequiredAction FROM {} WHERE BankName='{}' AND EventType='SOS' AND TicketsRequiredAction='TicketToAck' \".format(tablename,Bank[0]),conn)\n",
    "            elif subfilter=='SOS Close':\n",
    "                records=pd.read_sql(\"SELECT BankName,SiteName,McuId,EventId,EventType,Msg,OpenedOn,AgeInMinutes,TicketsRequiredAction FROM {} WHERE BankName='{}' AND EventType='SOS' AND TicketsRequiredAction='TicketToClose' \".format(tablename,Bank[0]),conn)\n",
    "            elif subfilter=='Critcial Ack':\n",
    "                records=pd.read_sql(\"SELECT BankName,SiteName,McuId,EventId,EventType,Msg,OpenedOn,AgeInMinutes,TicketsRequiredAction FROM {} WHERE BankName='{}' AND EventType='Critical' AND TicketsRequiredAction='TicketToAck' \".format(tablename,Bank[0]),conn)\n",
    "            elif subfilter=='Critcial Close':\n",
    "                records=pd.read_sql(\"SELECT BankName,SiteName,McuId,EventId,EventType,Msg,OpenedOn,AgeInMinutes,TicketsRequiredAction FROM {} WHERE BankName='{}' AND EventType='Critical' AND TicketsRequiredAction='TicketToClose' \".format(tablename,Bank[0]),conn)\n",
    "        \n",
    "        else:\n",
    "            Bank=tuple(Bank)\n",
    "            if subfilter=='All':\n",
    "                records=pd.read_sql(\"SELECT BankName,SiteName,McuId,EventId,EventType,Msg,OpenedOn,AgeInMinutes,TicketsRequiredAction FROM {} \".format(tablename,Bank[0]),conn)\n",
    "            elif subfilter=='SOS Ack':\n",
    "                records=pd.read_sql(\"SELECT BankName,SiteName,McuId,EventId,EventType,Msg,OpenedOn,AgeInMinutes,TicketsRequiredAction FROM {} WHERE BankName IS {} AND EventType='SOS' AND TicketsRequiredAction='TicketToAck' \".format(tablename,Bank),conn)\n",
    "            elif subfilter=='SOS Close':\n",
    "                records=pd.read_sql(\"SELECT BankName,SiteName,McuId,EventId,EventType,Msg,OpenedOn,AgeInMinutes,TicketsRequiredAction FROM {} WHERE BankName IS {} AND EventType='SOS' AND TicketsRequiredAction='TicketToClose' \".format(tablename,Bank),conn)\n",
    "            elif subfilter=='Critcial Ack':\n",
    "                records=pd.read_sql(\"SELECT BankName,SiteName,McuId,EventId,EventType,Msg,OpenedOn,AgeInMinutes,TicketsRequiredAction FROM {} WHERE BankName IS {} AND EventType='Critical' AND TicketsRequiredAction='TicketToAck' \".format(tablename,Bank),conn)\n",
    "            elif subfilter=='Critcial Close':\n",
    "                records=pd.read_sql(\"SELECT BankName,SiteName,McuId,EventId,EventType,Msg,OpenedOn,AgeInMinutes,TicketsRequiredAction FROM {} WHERE BankName IS {} AND EventType='Critical' AND TicketsRequiredAction='TicketToClose' \".format(tablename,Bank),conn)\n",
    "    conn.close()\n",
    "    records['OpenedOn'] = records['OpenedOn'].map(str)\n",
    "    return {\"records\":json.loads(records.to_json(orient='records'))}\n",
    "a=events_records(tablename,subfilter,Bank=['All'],Duration=2)\n"
   ]
  },
  {
   "cell_type": "code",
   "execution_count": 2,
   "id": "33f8c9f3",
   "metadata": {},
   "outputs": [
    {
     "ename": "NameError",
     "evalue": "name 'json' is not defined",
     "output_type": "error",
     "traceback": [
      "\u001b[1;31m---------------------------------------------------------------------------\u001b[0m",
      "\u001b[1;31mNameError\u001b[0m                                 Traceback (most recent call last)",
      "\u001b[1;32m<ipython-input-2-4a282abba3db>\u001b[0m in \u001b[0;36m<module>\u001b[1;34m\u001b[0m\n\u001b[1;32m----> 1\u001b[1;33m \u001b[0mjson\u001b[0m\u001b[1;33m.\u001b[0m\u001b[0mloads\u001b[0m\u001b[1;33m(\u001b[0m\u001b[0mrecords\u001b[0m\u001b[1;33m.\u001b[0m\u001b[0mto_json\u001b[0m\u001b[1;33m(\u001b[0m\u001b[0morient\u001b[0m\u001b[1;33m=\u001b[0m\u001b[1;34m'records'\u001b[0m\u001b[1;33m)\u001b[0m\u001b[1;33m)\u001b[0m\u001b[1;33m\u001b[0m\u001b[1;33m\u001b[0m\u001b[0m\n\u001b[0m",
      "\u001b[1;31mNameError\u001b[0m: name 'json' is not defined"
     ]
    }
   ],
   "source": [
    "def events_records(tablename,subfilter,Bank=['All'],Duration=2):\n",
    "    import pymssql\n",
    "    import pandas as pd\n",
    "    import json\n",
    "    conn = pymssql.connect(server='188.42.97.40', user='aaum_db_usr', password='nfm!DBj!Pu#hZmgThxAoZe$E', database='AAUM_Analytics_DB')  \n",
    "    cursor = conn.cursor()\n",
    "    if Bank==['All']:\n",
    "        if subfilter=='All':\n",
    "            records=pd.read_sql(\"SELECT TicketId,BankName,SiteName,OpenedOn,MainDoorOpen FROM {} WHERE OpenedOn>=(CURRENT_TIMESTAMP-{})\".format(tablename,Duration/24),conn)\n",
    "        elif subfilter=='>12':\n",
    "            records=pd.read_sql(\"SELECT TicketId,BankName,SiteName,OpenedOn,MainDoorOpen FROM {} WHERE MainDoorOpen>=12 and OpenedOn>=(CURRENT_TIMESTAMP-{})\".format(tablename,Duration/24),conn)\n",
    "        elif subfilter=='>8':\n",
    "            records=pd.read_sql(\"SELECT TicketId,BankName,SiteName,OpenedOn,MainDoorOpen FROM {} WHERE (MainDoorOpen>=8 and MainDoorOpen<12) and OpenedOn>=(CURRENT_TIMESTAMP-{})\".format(tablename,Duration/24),conn)\n",
    "        elif subfilter=='>4':\n",
    "            records=pd.read_sql(\"SELECT TicketId,BankName,SiteName,OpenedOn,MainDoorOpen FROM {} WHERE (MainDoorOpen>=4 and MainDoorOpen<8) and OpenedOn>=(CURRENT_TIMESTAMP-{})\".format(tablename,Duration/24),conn)\n",
    "        elif subfilter=='DoorOff':\n",
    "            records=pd.read_sql(\"SELECT TicketId,BankName,SiteName,OpenedOn,MainDoorOpen FROM {} WHERE (MainDoorOpen=0 and [Main Door Sensor]=0) and OpenedOn>=(CURRENT_TIMESTAMP-{})\".format(tablename,Duration/24),conn)\n",
    "        elif subfilter=='DoorOpened':\n",
    "            records=pd.read_sql(\"SELECT TicketId,BankName,SiteName,OpenedOn,MainDoorOpen FROM {} WHERE (MainDoorOpen=0 and MainDoorStatus='Opened' and [Main Door Sensor]!=0) and OpenedOn>=(CURRENT_TIMESTAMP-{})\".format(tablename,Duration/24),conn)\n",
    "        \n",
    "    else:\n",
    "        if len(Bank)==1:\n",
    "            if subfilter=='All':\n",
    "                records=pd.read_sql(\"SELECT TicketId,BankName,SiteName,OpenedOn,MainDoorOpen FROM {} WHERE BankName='{}' AND OpenedOn>=(CURRENT_TIMESTAMP-{})\".format(tablename,Bank[0],Duration/24),conn)\n",
    "            elif subfilter=='>12':\n",
    "                records=pd.read_sql(\"SELECT TicketId,BankName,SiteName,OpenedOn,MainDoorOpen FROM {} WHERE BankName='{}' AND MainDoorOpen>=12 and OpenedOn>=(CURRENT_TIMESTAMP-{})\".format(tablename,Bank[0],Duration/24),conn)\n",
    "            elif subfilter=='>8':\n",
    "                records=pd.read_sql(\"SELECT TicketId,BankName,SiteName,OpenedOn,MainDoorOpen FROM {} WHERE BankName='{}' AND (MainDoorOpen>=8 and MainDoorOpen<12) and OpenedOn>=(CURRENT_TIMESTAMP-{})\".format(tablename,Bank[0],Duration/24),conn)\n",
    "            elif subfilter=='>4':\n",
    "                records=pd.read_sql(\"SELECT TicketId,BankName,SiteName,OpenedOn,MainDoorOpen FROM {} WHERE BankName='{}' AND (MainDoorOpen>=4 and MainDoorOpen<8) and OpenedOn>=(CURRENT_TIMESTAMP-{})\".format(tablename,Bank[0],Duration/24),conn)\n",
    "            elif subfilter=='DoorOff':\n",
    "                records=pd.read_sql(\"SELECT TicketId,BankName,SiteName,OpenedOn,MainDoorOpen FROM {} WHERE BankName='{}' AND (MainDoorOpen=0 and [Main Door Sensor]=0) and OpenedOn>=(CURRENT_TIMESTAMP-{})\".format(tablename,Bank[0],Duration/24),conn)\n",
    "            elif subfilter=='DoorOpened':\n",
    "                records=pd.read_sql(\"SELECT TicketId,BankName,SiteName,OpenedOn,MainDoorOpen FROM {} WHERE BankName='{}' AND (MainDoorOpen=0 and MainDoorStatus='Opened' and [Main Door Sensor]!=0) and OpenedOn>=(CURRENT_TIMESTAMP-{})\".format(tablename,Bank[0],Duration/24),conn)   \n",
    "        else:\n",
    "            Bank=tuple(Bank)\n",
    "            if subfilter=='All':\n",
    "                records=pd.read_sql(\"SELECT TicketId,BankName,SiteName,OpenedOn,MainDoorOpen FROM {} WHERE BankName in {} AND OpenedOn>=(CURRENT_TIMESTAMP-{})\".format(tablename,Bank,Duration/24),conn)\n",
    "            elif subfilter=='>12':\n",
    "                records=pd.read_sql(\"SELECT TicketId,BankName,SiteName,OpenedOn,MainDoorOpen FROM {} WHERE BankName in {} AND MainDoorOpen>=12 and OpenedOn>=(CURRENT_TIMESTAMP-{})\".format(tablename,Bank,Duration/24),conn)\n",
    "            elif subfilter=='>8':\n",
    "                records=pd.read_sql(\"SELECT TicketId,BankName,SiteName,OpenedOn,MainDoorOpen FROM {} WHERE BankName in {} AND (MainDoorOpen>=8 and MainDoorOpen<12) and OpenedOn>=(CURRENT_TIMESTAMP-{})\".format(tablename,Bank,Duration/24),conn)\n",
    "            elif subfilter=='>4':\n",
    "                records=pd.read_sql(\"SELECT TicketId,BankName,SiteName,OpenedOn,MainDoorOpen FROM {} WHERE BankName in {} AND (MainDoorOpen>=4 and MainDoorOpen<8) and OpenedOn>=(CURRENT_TIMESTAMP-{})\".format(tablename,Bank,Duration/24),conn)\n",
    "            elif subfilter=='DoorOff':\n",
    "                records=pd.read_sql(\"SELECT TicketId,BankName,SiteName,OpenedOn,MainDoorOpen FROM {} WHERE BankName in {} AND (MainDoorOpen=0 and [Main Door Sensor]=0) and OpenedOn>=(CURRENT_TIMESTAMP-{})\".format(tablename,Bank,Duration/24),conn)\n",
    "            elif subfilter=='DoorOpened':\n",
    "                records=pd.read_sql(\"SELECT TicketId,BankName,SiteName,OpenedOn,MainDoorOpen FROM {} WHERE BankName in {} AND (MainDoorOpen=0 and MainDoorStatus='Opened' and [Main Door Sensor]!=0) and OpenedOn>=(CURRENT_TIMESTAMP-{})\".format(tablename,Bank,Duration/24),conn)   \n",
    "    conn.close()\n",
    "    records['OpenedOn'] = records['OpenedOn'].map(str)\n",
    "    return {\"records\":json.loads(records.to_json(orient='records'))}\n"
   ]
  },
  {
   "cell_type": "code",
   "execution_count": null,
   "id": "ac625c3c",
   "metadata": {},
   "outputs": [],
   "source": []
  }
 ],
 "metadata": {
  "kernelspec": {
   "display_name": "Python 3",
   "language": "python",
   "name": "python3"
  },
  "language_info": {
   "codemirror_mode": {
    "name": "ipython",
    "version": 3
   },
   "file_extension": ".py",
   "mimetype": "text/x-python",
   "name": "python",
   "nbconvert_exporter": "python",
   "pygments_lexer": "ipython3",
   "version": "3.8.8"
  }
 },
 "nbformat": 4,
 "nbformat_minor": 5
}
